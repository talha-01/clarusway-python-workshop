{
 "cells": [
  {
   "cell_type": "code",
   "execution_count": 18,
   "metadata": {},
   "outputs": [
    {
     "name": "stdout",
     "output_type": "stream",
     "text": [
      " \n"
     ]
    }
   ],
   "source": [
    "morse_to_dots = {\n",
    "    \"A\": \".-\", \"B\": \"-...\", \"C\": \"-.-.\", \"D\": \"-..\", \"E\": \".\", \"F\": \"..-.\",\n",
    "    \"G\": \"--.\", \"H\": \"....\", \"I\": \"..\", \"J\": \".---\", \"K\": \"-.-\", \"L\": \".-..\",\n",
    "    \"M\": \"--\", \"N\": \"-.\", \"O\": \"---\", \"P\": \".--.\", \"Q\": \"--.-\", \"R\": \".-.\",\n",
    "    \"S\": \"...\", \"T\": \"-\", \"U\": \"..-\", \"V\": \"...-\", \"W\": \".--\", \"X\": \"-..-\",\n",
    "    \"Y\": \"-.--\", \"Z\": \"--..\", \"0\": \"-----\",\n",
    "    \"1\": \".----\", \"2\": \"..---\", \"3\": \"...--\", \"4\": \"....-\", \"5\": \".....\",\n",
    "    \"6\": \"-....\", \"7\": \"--...\", \"8\": \"---..\", \"9\": \"----.\",\n",
    "    \"&\": \".-...\", \"'\": \".----.\", \"@\": \".--.-.\", \")\": \"-.--.-\", \"(\": \"-.--.\",\n",
    "    \":\": \"---...\", \",\": \"--..--\", \"=\": \"-...-\", \"!\": \"-.-.--\", \".\": \".-.-.-\",\n",
    "    \"-\": \"-....-\", \"+\": \".-.-.\", '\"': \".-..-.\", \"?\": \"..--..\", \"/\": \"-..-.\", \" \": \" \"\n",
    "}\n",
    "morse=(\". -.. .- -... -... .. -  -.-. .... .- .-.. .-.. . -. --. .  .... . .-.. .--.\\\n",
    "        -- .   -.-.--\").split('  ')\n",
    "word=\" \"\n",
    "for j in range (len(morse)):\n",
    "    for i in morse_to_dots:\n",
    "        if morse[j]==(morse_to_dots[i]):\n",
    "            word+=i\n",
    "print(word)"
   ]
  },
  {
   "cell_type": "code",
   "execution_count": 17,
   "metadata": {},
   "outputs": [
    {
     "name": "stdout",
     "output_type": "stream",
     "text": [
      "0  \n"
     ]
    }
   ],
   "source": [
    "word = (\". -.. .- -... -... .. -  -.-. .... .- .-.. .-.. . -. --. .  .... . .-.. .--.   -- .   -.-.--\").split()\n",
    "for i in range(len(word)):\n",
    "    print(i, word[i])"
   ]
  },
  {
   "cell_type": "code",
   "execution_count": 5,
   "metadata": {},
   "outputs": [
    {
     "name": "stdout",
     "output_type": "stream",
     "text": [
      "3\n"
     ]
    }
   ],
   "source": [
    "print(len([[12, 34, 56]][0]))"
   ]
  },
  {
   "cell_type": "code",
   "execution_count": 15,
   "metadata": {},
   "outputs": [
    {
     "name": "stdout",
     "output_type": "stream",
     "text": [
      "['kiwi']\n"
     ]
    }
   ],
   "source": [
    "my_list = ['banana', ['apple', 'orange', ['pepper', 'kiwi'], 'strawberry'], 'tomatoes']\n",
    "print(my_list[1][2][1:])"
   ]
  },
  {
   "cell_type": "code",
   "execution_count": 1,
   "metadata": {},
   "outputs": [
    {
     "name": "stdout",
     "output_type": "stream",
     "text": [
      "{'str': 3, 'bool': 1, 'tuple': 1, 'dict': 2, 'list': 1, 'set': 1, 'int': 2}\n"
     ]
    }
   ],
   "source": [
    "veri = [\"a\", \"b\", True, (False,1), {\"1\":2}, [1,2], {\"2\":\"two\"}, {2,\"3\"},\"c\",23,0]\n",
    "keys = []\n",
    "for i in range(len(veri)):\n",
    "    x = str(type(veri [i]))[8:-2]\n",
    "    keys.append (x)\n",
    "toplam = {c: keys.count(c) for c in {}.fromkeys(keys,0)}\n",
    "print(toplam)"
   ]
  },
  {
   "cell_type": "code",
   "execution_count": 24,
   "metadata": {},
   "outputs": [
    {
     "data": {
      "text/plain": [
       "[]"
      ]
     },
     "execution_count": 24,
     "metadata": {},
     "output_type": "execute_result"
    }
   ],
   "source": [
    "def pos_neg_sort(lst):\n",
    "    draft = sorted([x for x in lst if x > 0], reverse = True)\n",
    "    for i in range(len(lst)):\n",
    "        if lst[i] > 0:\n",
    "            lst[i] = draft.pop()\n",
    "    return lst\n",
    "pos_neg_sort([6, 3, -2, 5, -8, 2, -2])"
   ]
  },
  {
   "cell_type": "code",
   "execution_count": 25,
   "metadata": {},
   "outputs": [
    {
     "data": {
      "text/plain": [
       "[2, 3, -2, 5, -8, 6, -2]"
      ]
     },
     "execution_count": 25,
     "metadata": {},
     "output_type": "execute_result"
    }
   ],
   "source": [
    "def pos_neg_sort(lst):\n",
    "    draft = sorted([x for x in lst if x > 0], reverse = True)\n",
    "    return [draft.pop() if y > 0 else y for y in lst]\n",
    "pos_neg_sort([6, 3, -2, 5, -8, 2, -2])"
   ]
  }
 ],
 "metadata": {
  "kernelspec": {
   "display_name": "Python 3.8.2 32-bit",
   "language": "python",
   "name": "python38232bitbc75585ea5a4422f9339869f78ad8c64"
  },
  "language_info": {
   "codemirror_mode": {
    "name": "ipython",
    "version": 3
   },
   "file_extension": ".py",
   "mimetype": "text/x-python",
   "name": "python",
   "nbconvert_exporter": "python",
   "pygments_lexer": "ipython3",
   "version": "3.8.2"
  }
 },
 "nbformat": 4,
 "nbformat_minor": 4
}

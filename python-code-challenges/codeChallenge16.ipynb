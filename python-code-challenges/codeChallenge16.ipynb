{
 "cells": [
  {
   "cell_type": "code",
   "execution_count": 5,
   "metadata": {},
   "outputs": [
    {
     "name": "stdout",
     "output_type": "stream",
     "text": [
      "average          23.2300\n",
      "average           0.1233\n",
      "average           1.0000\n",
      "average           4.2230\n",
      "average        9887.2000\n",
      "average        9887.2000\n"
     ]
    }
   ],
   "source": [
    "numbers = [23.23, 0.123334987, 1, 4.223, 9887.2]\n",
    "\n",
    "for number in numbers:\n",
    "    print(f'average {number:16.4f}')\n",
    "print('average {0: >#016.4f}'.format(number))"
   ]
  },
  {
   "cell_type": "code",
   "execution_count": 6,
   "metadata": {},
   "outputs": [
    {
     "name": "stdout",
     "output_type": "stream",
     "text": [
      "[1, 9, 8, 7]\n"
     ]
    }
   ],
   "source": [
    "lst = [1,9,8,8,7,6,1,6,6,8,6]\n",
    "lst1 = []\n",
    "for i in lst:\n",
    "    if lst.count(i) < 4 and i not in lst1:\n",
    "        lst1.append(i)\n",
    "print(lst1)"
   ]
  },
  {
   "cell_type": "code",
   "execution_count": 12,
   "metadata": {},
   "outputs": [
    {
     "data": {
      "text/plain": [
       "'The winner is p2'"
      ]
     },
     "execution_count": 12,
     "metadata": {},
     "output_type": "execute_result"
    }
   ],
   "source": [
    "def rps(p1,p2):\n",
    "    winners, losers = ['Paper', 'Rock', 'Scissors'], ['Rock', 'Scissors', 'Paper']\n",
    "    if p1 == p2:\n",
    "        return 'It\\'s a draw'\n",
    "    elif (p1, p2) in [(w, l) for w, l in zip(winners, losers)]:\n",
    "        return 'The winner is p1'\n",
    "    else:\n",
    "        return 'The winner is p2'\n",
    "\n",
    "rps('Rock', 'Paper')"
   ]
  },
  {
   "cell_type": "code",
   "execution_count": 11,
   "metadata": {},
   "outputs": [
    {
     "ename": "SyntaxError",
     "evalue": "invalid syntax (<ipython-input-11-5e4090b574a5>, line 3)",
     "output_type": "error",
     "traceback": [
      "\u001b[1;36m  File \u001b[1;32m\"<ipython-input-11-5e4090b574a5>\"\u001b[1;36m, line \u001b[1;32m3\u001b[0m\n\u001b[1;33m    a = [for w, l in zip(winners, losers)]\u001b[0m\n\u001b[1;37m           ^\u001b[0m\n\u001b[1;31mSyntaxError\u001b[0m\u001b[1;31m:\u001b[0m invalid syntax\n"
     ]
    }
   ],
   "source": [
    "\n",
    "a = [for w, l in zip(winners, losers)]"
   ]
  },
  {
   "cell_type": "code",
   "execution_count": 10,
   "metadata": {},
   "outputs": [
    {
     "data": {
      "text/plain": [
       "2"
      ]
     },
     "execution_count": 10,
     "metadata": {},
     "output_type": "execute_result"
    }
   ],
   "source": [
    "def equal(a, b, c):\n",
    "    return [0, 2, 3][3 - len(set([a, b, c]))]\n",
    "\n",
    "equal(21,1,1)"
   ]
  },
  {
   "cell_type": "code",
   "execution_count": 6,
   "metadata": {},
   "outputs": [
    {
     "name": "stdout",
     "output_type": "stream",
     "text": [
      "2\n",
      "1\n",
      "3\n"
     ]
    }
   ],
   "source": [
    "print(len(set([21,21,10])))\n",
    "print(len(set([21,21,21])))\n",
    "print(len(set([22,21,10])))\n"
   ]
  },
  {
   "cell_type": "code",
   "execution_count": 6,
   "metadata": {},
   "outputs": [
    {
     "name": "stdout",
     "output_type": "stream",
     "text": [
      "Please enter a positive number _ -153\n",
      "Please enter a positive number\n",
      "Please enter a positive number _ 158.33\n",
      "Please enter an integer number\n",
      "Please enter a positive number _ dasdsa\n",
      "Do not use any entries other than numeric values\n",
      "Please enter a positive number _ 121\n",
      "121 is not an Armstrong number\n"
     ]
    }
   ],
   "source": [
    "while True:\n",
    "    number = input('Please enter a positive number _ ')\n",
    "    is_arm = 0\n",
    "    if number.count(',') + number.count('.') != 0:\n",
    "        print('Please enter an integer number')\n",
    "    elif number[0] == '-':\n",
    "        print('Please enter a positive number')\n",
    "    elif not number.isdigit():\n",
    "        print('Do not use any entries other than numeric values')\n",
    "    else: break\n",
    "for i in number:\n",
    "    is_arm += int(i) ** len(number)\n",
    "if is_arm == int(number):\n",
    "    print(number, 'is an Armstrong number')\n",
    "else:\n",
    "    print(number, 'is not an Armstrong number')"
   ]
  },
  {
   "cell_type": "code",
   "execution_count": 8,
   "metadata": {},
   "outputs": [
    {
     "name": "stdout",
     "output_type": "stream",
     "text": [
      "Please a positive integer number _  -6\n",
      "Please enter a positive number\n"
     ]
    }
   ],
   "source": [
    "number = input(\"Please a positive integer number _  \")\n",
    "results = { \n",
    "    0 : f'{number} is not an Armstrong number', \n",
    "    1 : f'{number} is an Armstrong number',\n",
    "    2 : 'Please enter a positive number',\n",
    "    3 : 'Please enter a integer number', \n",
    "    4: 'Do not use entries other than numeric values'\n",
    "    }\n",
    "\n",
    "if number[0] == '-':\n",
    "    print(results[2])\n",
    "elif number.count(',') + number.count('.') != 0:\n",
    "    print(results[3])\n",
    "elif not number.isnumeric():\n",
    "    print(results[4])\n",
    "else:\n",
    "    is_arm = 0\n",
    "    for i in number:\n",
    "        is_arm += int(i) ** len(number)\n",
    "    print(results[is_arm == int(number)])"
   ]
  },
  {
   "cell_type": "code",
   "execution_count": 10,
   "metadata": {},
   "outputs": [
    {
     "name": "stdout",
     "output_type": "stream",
     "text": [
      "Please Enter Your Number : 407\n"
     ]
    }
   ],
   "source": [
    "Number = eval(input('Please Enter Your Number : '))\n",
    "if Number  < 0 :\n",
    "    print('Please Enter Pozitif Number')\n",
    "    Number = eval(input('Please Enter Your Number : '))\n",
    "if type(Number)==float:\n",
    "    print('Please Enter Integer Number')\n",
    "    Number = eval(input('Please Enter Your Number : '))\n",
    "if type(Number) == str:\n",
    "    print('Do not use any entries other than numeric values')\n",
    "    Number = eval(input('Please Enter Your Number : '))"
   ]
  },
  {
   "cell_type": "code",
   "execution_count": 1,
   "metadata": {},
   "outputs": [
    {
     "name": "stdout",
     "output_type": "stream",
     "text": [
      "1\n",
      "22\n",
      "333\n",
      "4444\n",
      "55555\n",
      "666666\n",
      "7777777\n",
      "88888888\n",
      "999999999\n"
     ]
    }
   ],
   "source": [
    "for i in range(1, 10):\n",
    "    print(str(i) * i)"
   ]
  },
  {
   "cell_type": "code",
   "execution_count": 3,
   "metadata": {},
   "outputs": [
    {
     "name": "stdout",
     "output_type": "stream",
     "text": [
      "10 equals 2 * 5\n",
      "11 is a prime number\n",
      "12 equals 2 * 6\n",
      "13 is a prime number\n",
      "14 equals 2 * 7\n",
      "15 equals 3 * 5\n",
      "16 equals 2 * 8\n",
      "17 is a prime number\n",
      "18 equals 2 * 9\n",
      "19 is a prime number\n"
     ]
    }
   ],
   "source": [
    "for num in range(10,20):  #to iterate between 10 to 20\n",
    "    for i in range(2,num): #to iterate on the factors of the number\n",
    "        if num%i == 0:      #to determine the first factor\n",
    "            j=num/i #to calculate the second factor\n",
    "            print('%d equals %d * %d' % (num,i,j))\n",
    "            break #to move to the next number, the #first FOR\n",
    "    else:        # else part of the loop\n",
    "        print(num, 'is a prime number')"
   ]
  },
  {
   "cell_type": "code",
   "execution_count": 5,
   "metadata": {},
   "outputs": [
    {
     "name": "stdout",
     "output_type": "stream",
     "text": [
      "2775\n"
     ]
    }
   ],
   "source": [
    "num = []\n",
    "for i in range(1, 75):\n",
    "    num.append(i)\n",
    "print(sum(num))"
   ]
  },
  {
   "cell_type": "code",
   "execution_count": 7,
   "metadata": {},
   "outputs": [
    {
     "name": "stdout",
     "output_type": "stream",
     "text": [
      "2775\n"
     ]
    }
   ],
   "source": [
    "print(sum(range(1, 75)))"
   ]
  },
  {
   "cell_type": "code",
   "execution_count": 10,
   "metadata": {},
   "outputs": [
    {
     "name": "stdout",
     "output_type": "stream",
     "text": [
      "range(0, 10)\n"
     ]
    }
   ],
   "source": [
    "print(range(10))"
   ]
  },
  {
   "cell_type": "code",
   "execution_count": 28,
   "metadata": {},
   "outputs": [
    {
     "name": "stdout",
     "output_type": "stream",
     "text": [
      "1 and 1\n",
      "1 and 2\n",
      "1 and 3\n",
      "4, 1 the total is 5\n",
      "2 and 1\n",
      "2 and 2\n",
      "2 and 4\n",
      "4, 2 the total is 5\n",
      "3 and 1\n",
      "3 and 3\n",
      "3 and 4\n",
      "4, 3 the total is 5\n",
      "4 and 2\n",
      "4 and 3\n",
      "4 and 4\n",
      "4, 4 the total is 5\n"
     ]
    }
   ],
   "source": [
    "for j in range(1, 5):\n",
    "    for i in range(1, 5):\n",
    "        if i + j == 5:\n",
    "            continue\n",
    "        print(f'{j} and {i}')\n",
    "#         if i + j > 20:\n",
    "#             break\n",
    "    else:\n",
    "        print(f'{i}, {j} the total is 5')"
   ]
  },
  {
   "cell_type": "markdown",
   "metadata": {},
   "source": []
  }
 ],
 "metadata": {
  "kernelspec": {
   "display_name": "Python 3",
   "language": "python",
   "name": "python3"
  },
  "language_info": {
   "codemirror_mode": {
    "name": "ipython",
    "version": 3
   },
   "file_extension": ".py",
   "mimetype": "text/x-python",
   "name": "python",
   "nbconvert_exporter": "python",
   "pygments_lexer": "ipython3",
   "version": "3.7.6"
  }
 },
 "nbformat": 4,
 "nbformat_minor": 4
}

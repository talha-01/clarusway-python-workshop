{
 "cells": [
  {
   "cell_type": "code",
   "execution_count": 153,
   "metadata": {},
   "outputs": [
    {
     "name": "stdout",
     "output_type": "stream",
     "text": [
      "[1, 3, 4, 5, 6, 8, 11, 14, 15, 16, 25, 34, 67, 100, 250, 255]\n"
     ]
    }
   ],
   "source": [
    "x = [1, 4, 8, [3, 6, [5, 67, [100, 250, [[[255]]]], 34], 11, 15], [14, 16], 25]\n",
    "print(sorted(int(el.strip(' []()')) for el in str(x).split(',')))"
   ]
  },
  {
   "cell_type": "code",
   "execution_count": null,
   "metadata": {},
   "outputs": [],
   "source": []
  },
  {
   "cell_type": "code",
   "execution_count": 44,
   "metadata": {},
   "outputs": [
    {
     "name": "stdout",
     "output_type": "stream",
     "text": [
      "[1, 2, 3, 4, 5, 6, 7]\n"
     ]
    }
   ],
   "source": [
    "x = [([1, 2], [3, 4, 5], (6, 7))]\n",
    "result = []\n",
    "print(list(level_3 for level_1 in x for level_2 in level_1 for level_3 in level_2))\n",
    "            \n"
   ]
  },
  {
   "cell_type": "code",
   "execution_count": null,
   "metadata": {},
   "outputs": [],
   "source": []
  },
  {
   "cell_type": "code",
   "execution_count": 152,
   "metadata": {},
   "outputs": [
    {
     "data": {
      "text/plain": [
       "[' 0 0 1', ' 00110', '001100', '101101']"
      ]
     },
     "execution_count": 152,
     "metadata": {},
     "output_type": "execute_result"
    }
   ],
   "source": [
    "def binary_clock(time):\n",
    "    row, result = [], []\n",
    "    for ch in (time.replace(':', '')):\n",
    "        row.append(list(bin(int(ch))[2:][::-1])+(4-len(bin(int(ch))[2:]))*['0'])\n",
    "        row[-1].reverse()\n",
    "    row[0][0] = row[2][0] = row[4][0] = row[0][1] = ' '\n",
    "    for r in range(4):\n",
    "        result.append(''.join(row[y][r] for y in range(6)))\n",
    "    return result\n",
    "    \n",
    "binary_clock(\"10:37:49\")"
   ]
  },
  {
   "cell_type": "code",
   "execution_count": 163,
   "metadata": {},
   "outputs": [
    {
     "data": {
      "text/plain": [
       "51"
      ]
     },
     "execution_count": 163,
     "metadata": {},
     "output_type": "execute_result"
    }
   ],
   "source": [
    "def bill_count(money, bills):\n",
    "    count = []\n",
    "    for i in sorted(bills, reverse = True):\n",
    "        switch = True\n",
    "        while switch:\n",
    "            switch = False\n",
    "            if money >= i :\n",
    "                money -= i\n",
    "                count.append(i)\n",
    "                switch = True\n",
    "    return len(count)\n",
    "            \n",
    "        \n",
    "    \n",
    "bill_count(1001, [1, 10, 20])\n",
    "    "
   ]
  },
  {
   "cell_type": "code",
   "execution_count": 165,
   "metadata": {},
   "outputs": [
    {
     "data": {
      "text/plain": [
       "51"
      ]
     },
     "execution_count": 165,
     "metadata": {},
     "output_type": "execute_result"
    }
   ],
   "source": [
    "def bill_count(money, bills):\n",
    "    total = 0\n",
    "    while money:\n",
    "        amount, money = divmod(money, bills.pop())\n",
    "        total += amount\n",
    "    return total\n",
    "\n",
    "bill_count(1001, [1, 10, 20])"
   ]
  },
  {
   "cell_type": "code",
   "execution_count": 181,
   "metadata": {},
   "outputs": [
    {
     "data": {
      "text/plain": [
       "True"
      ]
     },
     "execution_count": 181,
     "metadata": {},
     "output_type": "execute_result"
    }
   ],
   "source": [
    "def formula(txt):\n",
    "    a = 4\n",
    "    return eval(txt.replace('=', '==')) if txt else None\n",
    "\n",
    "\n",
    "\n",
    "formula('a / a = a - 3')"
   ]
  },
  {
   "cell_type": "code",
   "execution_count": 1,
   "metadata": {},
   "outputs": [
    {
     "name": "stdout",
     "output_type": "stream",
     "text": [
      "Please enter a mathematical operation _ 6+6\n",
      "12\n"
     ]
    }
   ],
   "source": [
    "while True:\n",
    "    cal = input('Please enter a mathematical operation _ ')\n",
    "    if len(cal) == 3 and  cal[1] in '+-*/' and cal[0].isdigit() and cal[2].isdigit():\n",
    "        break\n",
    "results = {'+': f'{int(cal[0]) + int(cal[2])}',\n",
    "          '-': f'{int(cal[0]) - int(cal[2])}',\n",
    "          '/': f'{int(cal[0]) / int(cal[2]):.0f}',\n",
    "          '*': f'{int(cal[0]) * int(cal[2])}'}\n",
    "print(results[cal[1]])"
   ]
  },
  {
   "cell_type": "code",
   "execution_count": 7,
   "metadata": {},
   "outputs": [
    {
     "data": {
      "text/plain": [
       "'foobar0010'"
      ]
     },
     "execution_count": 7,
     "metadata": {},
     "output_type": "execute_result"
    }
   ],
   "source": [
    "def increment_string(txt):\n",
    "    if not txt[-1].isdigit(): return txt + '1'\n",
    "    else:\n",
    "        num = [x for x in txt if x.isdigit()]\n",
    "        let = ''.join(x for x in txt if x.isalpha())\n",
    "        a = list(str(int(''.join(num))+1)[::-1])+['0']*(len(num)-len(str(int(''.join(num))+1)))\n",
    "        return let + ''.join(a[::-1])\n",
    "                                                              \n",
    "increment_string(\"foobar0009\")                                                          "
   ]
  },
  {
   "cell_type": "code",
   "execution_count": 9,
   "metadata": {},
   "outputs": [
    {
     "data": {
      "text/plain": [
       "'foobar0010'"
      ]
     },
     "execution_count": 9,
     "metadata": {},
     "output_type": "execute_result"
    }
   ],
   "source": [
    "def increment_string(txt):\n",
    "    if not txt[-1].isdigit(): return txt + '1'\n",
    "    x = str(int(''.join([i for i in txt if i.isdigit()]))+1)\n",
    "    return txt[:-len(x)]+x\n",
    "\n",
    "increment_string(\"foobar0009\")  "
   ]
  },
  {
   "cell_type": "code",
   "execution_count": 20,
   "metadata": {},
   "outputs": [
    {
     "data": {
      "text/plain": [
       "True"
      ]
     },
     "execution_count": 20,
     "metadata": {},
     "output_type": "execute_result"
    }
   ],
   "source": [
    "def can_complete(initial, word):\n",
    "    if set(initial) - set(word): return False\n",
    "    else:\n",
    "        letters = []\n",
    "        for i in word:\n",
    "            if i in initial and i not in letters:\n",
    "                letters.append(i)\n",
    "        return all(a==b for a,b in zip(list(initial), letters))\n",
    "               \n",
    "can_complete('butl', 'beautiful')\n",
    "    "
   ]
  },
  {
   "cell_type": "code",
   "execution_count": null,
   "metadata": {},
   "outputs": [],
   "source": [
    "def can_complete(initial, word):\n",
    "    letters = []\n",
    "    for i in word:\n",
    "        if i in initial and i not in letters:\n",
    "            letters.append(i)\n",
    "    return all(a==b for a,b in zip(list(initial), letters))\n",
    "            \n",
    "can_complete('butl', 'beautiful')"
   ]
  },
  {
   "cell_type": "code",
   "execution_count": 51,
   "metadata": {},
   "outputs": [
    {
     "ename": "MemoryError",
     "evalue": "",
     "output_type": "error",
     "traceback": [
      "\u001b[1;31m---------------------------------------------------------------------------\u001b[0m",
      "\u001b[1;31mMemoryError\u001b[0m                               Traceback (most recent call last)",
      "\u001b[1;32m<ipython-input-51-27f5ca28bf83>\u001b[0m in \u001b[0;36m<module>\u001b[1;34m\u001b[0m\n\u001b[0;32m      7\u001b[0m     \u001b[1;32mreturn\u001b[0m \u001b[0mprimes\u001b[0m\u001b[1;33m\u001b[0m\u001b[1;33m\u001b[0m\u001b[0m\n\u001b[0;32m      8\u001b[0m \u001b[1;33m\u001b[0m\u001b[0m\n\u001b[1;32m----> 9\u001b[1;33m \u001b[0mprime_factors\u001b[0m\u001b[1;33m(\u001b[0m\u001b[1;36m10\u001b[0m\u001b[1;33m)\u001b[0m\u001b[1;33m\u001b[0m\u001b[1;33m\u001b[0m\u001b[0m\n\u001b[0m\u001b[0;32m     10\u001b[0m \u001b[1;33m\u001b[0m\u001b[0m\n",
      "\u001b[1;32m<ipython-input-51-27f5ca28bf83>\u001b[0m in \u001b[0;36mprime_factors\u001b[1;34m(num)\u001b[0m\n\u001b[0;32m      4\u001b[0m         \u001b[1;32mfor\u001b[0m \u001b[0mi\u001b[0m \u001b[1;32min\u001b[0m \u001b[0mprimes\u001b[0m\u001b[1;33m:\u001b[0m\u001b[1;33m\u001b[0m\u001b[1;33m\u001b[0m\u001b[0m\n\u001b[0;32m      5\u001b[0m             \u001b[1;32mif\u001b[0m \u001b[0mn\u001b[0m \u001b[1;33m%\u001b[0m \u001b[0mi\u001b[0m\u001b[1;33m:\u001b[0m\u001b[1;33m\u001b[0m\u001b[1;33m\u001b[0m\u001b[0m\n\u001b[1;32m----> 6\u001b[1;33m                 \u001b[0mprimes\u001b[0m\u001b[1;33m.\u001b[0m\u001b[0mappend\u001b[0m\u001b[1;33m(\u001b[0m\u001b[0mi\u001b[0m\u001b[1;33m)\u001b[0m\u001b[1;33m\u001b[0m\u001b[1;33m\u001b[0m\u001b[0m\n\u001b[0m\u001b[0;32m      7\u001b[0m     \u001b[1;32mreturn\u001b[0m \u001b[0mprimes\u001b[0m\u001b[1;33m\u001b[0m\u001b[1;33m\u001b[0m\u001b[0m\n\u001b[0;32m      8\u001b[0m \u001b[1;33m\u001b[0m\u001b[0m\n",
      "\u001b[1;31mMemoryError\u001b[0m: "
     ]
    }
   ],
   "source": [
    "def prime_factors(num):\n",
    "    primes = [2]\n",
    "    for n in range(3, num):\n",
    "        for i in primes:\n",
    "            if n % i:\n",
    "                primes.append(i)\n",
    "    return primes\n",
    "\n",
    "prime_factors(10)\n",
    "    "
   ]
  },
  {
   "cell_type": "code",
   "execution_count": null,
   "metadata": {},
   "outputs": [],
   "source": [
    "Sample Input\n",
    "1222311\n",
    "Sample Output\n",
    "(1, 1) (3, 2) (1, 3) (2, 1)\n",
    "122231\n",
    "222311"
   ]
  },
  {
   "cell_type": "code",
   "execution_count": 33,
   "metadata": {},
   "outputs": [
    {
     "name": "stdout",
     "output_type": "stream",
     "text": [
      "(1, 1) (3, 2) (1, 3) (2, 1) "
     ]
    }
   ],
   "source": [
    "a= str(input())\n",
    "d, count = [], 1\n",
    "for c, k in zip(a[:-1], a[1:]):\n",
    "    if c != k:\n",
    "        d.append((max(count, 1), int(c)))\n",
    "        count = 1\n",
    "    else: count += 1            \n",
    "for z in d + [(count, int(a[-1]))]:\n",
    "    print(z, end = ' ')\n",
    "        \n",
    "    \n"
   ]
  },
  {
   "cell_type": "code",
   "execution_count": 36,
   "metadata": {},
   "outputs": [
    {
     "name": "stdout",
     "output_type": "stream",
     "text": [
      "5\n",
      "6\n",
      "5 [6]\n"
     ]
    }
   ],
   "source": [
    "if __name__ == '__main__':\n",
    "    n = int(input())\n",
    "    arr = map(int, input().split())\n",
    "    print(n, list(arr))"
   ]
  },
  {
   "cell_type": "code",
   "execution_count": null,
   "metadata": {},
   "outputs": [],
   "source": []
  }
 ],
 "metadata": {
  "kernelspec": {
   "display_name": "Python 3.8.2 32-bit",
   "language": "python",
   "name": "python38232bitbc75585ea5a4422f9339869f78ad8c64"
  },
  "language_info": {
   "codemirror_mode": {
    "name": "ipython",
    "version": 3
   },
   "file_extension": ".py",
   "mimetype": "text/x-python",
   "name": "python",
   "nbconvert_exporter": "python",
   "pygments_lexer": "ipython3",
   "version": "3.8.2"
  }
 },
 "nbformat": 4,
 "nbformat_minor": 4
}

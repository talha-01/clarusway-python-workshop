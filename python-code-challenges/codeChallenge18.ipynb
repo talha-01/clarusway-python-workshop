{
 "cells": [
  {
   "cell_type": "code",
   "execution_count": 4,
   "metadata": {},
   "outputs": [
    {
     "data": {
      "text/plain": [
       "'0n0n0baca'"
      ]
     },
     "execution_count": 4,
     "metadata": {},
     "output_type": "execute_result"
    }
   ],
   "source": [
    "def encrypt(word):\n",
    "    enc, r = {'a': '0', 'e':'1', 'o':'2', 'u':'3'}, []\n",
    "    for i, ch in enumerate(list(word[::-1])):\n",
    "        if ch in enc:\n",
    "            r.append(enc[ch])\n",
    "        else:\n",
    "            r.append(ch)\n",
    "    return ''.join(r) + 'aca'\n",
    "encrypt(\"banana\")"
   ]
  },
  {
   "cell_type": "code",
   "execution_count": 5,
   "metadata": {},
   "outputs": [
    {
     "data": {
      "text/plain": [
       "'ts1taca'"
      ]
     },
     "execution_count": 5,
     "metadata": {},
     "output_type": "execute_result"
    }
   ],
   "source": [
    "def encrypt(word):\n",
    "\treturn word[::-1].translate(str.maketrans('aeou', '0123')) + 'aca'\n",
    "def encrypt(word):\n",
    "    v= {'a':'0','e':'1','o':'2','u':'3'}\n",
    "    return ''.join(v[i] if i in v else i for i in word[::-1]) +'aca'\n",
    "def encrypt(word):\n",
    "\tword = word[::-1]\n",
    "\tfor r in ((\"a\", \"0\"), (\"e\", \"1\"), (\"o\", \"2\"), (\"u\", \"3\")):\n",
    "\t\tword = word.replace(*r)\n",
    "    return word+'aca'"
   ]
  },
  {
   "cell_type": "code",
   "execution_count": 14,
   "metadata": {},
   "outputs": [
    {
     "data": {
      "text/plain": [
       "[]"
      ]
     },
     "execution_count": 14,
     "metadata": {},
     "output_type": "execute_result"
    }
   ],
   "source": [
    "def remove_smallest(lst):\n",
    "    if lst :lst.remove(min(lst))\n",
    "    return lst\n",
    "remove_smallest([])"
   ]
  },
  {
   "cell_type": "code",
   "execution_count": 11,
   "metadata": {},
   "outputs": [
    {
     "data": {
      "text/plain": [
       "[2, 3]"
      ]
     },
     "execution_count": 11,
     "metadata": {},
     "output_type": "execute_result"
    }
   ],
   "source": [
    "def remove_smallest(lst):\n",
    "    return [x for x in lst if x != min(lst)]\n",
    "remove_smallest([1,2,3])"
   ]
  },
  {
   "cell_type": "code",
   "execution_count": 54,
   "metadata": {},
   "outputs": [
    {
     "data": {
      "text/plain": [
       "True"
      ]
     },
     "execution_count": 54,
     "metadata": {},
     "output_type": "execute_result"
    }
   ],
   "source": [
    "def is_ord_sub(smlst, biglst):\n",
    "    if smlst != biglst and sorted(smlst) == sorted(biglst): return False\n",
    "    a = []\n",
    "    for sm in smlst:\n",
    "        b = []\n",
    "        for i, big in enumerate(biglst):\n",
    "            if sm == big: \n",
    "                b.append(i)\n",
    "        a.append(b)\n",
    "    c, d = min(a[0]), []\n",
    "    for el in a[1:]:\n",
    "        for el1 in el:\n",
    "            if el1 > c:\n",
    "                c = el1\n",
    "                d.append(c)\n",
    "                break\n",
    "    return d == sorted(d) and bool(d)\n",
    "                     \n",
    "is_ord_sub([0, 1, 0, 1], [1, 1, 1, 1, 0, 0, 0, 1, 1, 0])\n",
    "    "
   ]
  },
  {
   "cell_type": "code",
   "execution_count": 62,
   "metadata": {},
   "outputs": [
    {
     "data": {
      "text/plain": [
       "True"
      ]
     },
     "execution_count": 62,
     "metadata": {},
     "output_type": "execute_result"
    }
   ],
   "source": [
    "def is_ord_sub(smlst, biglst):\n",
    "    biglst.reverse()\n",
    "    for ch in biglst.copy():\n",
    "        if not smlst: return True \n",
    "        if biglst.pop() == smlst[0]:\n",
    "            smlst.remove(smlst[0])     \n",
    "    return True if smlst == [] else False\n",
    "\n",
    "is_ord_sub([4, 3, 2], [5, 4, 3, 2, 1])"
   ]
  },
  {
   "cell_type": "code",
   "execution_count": 3,
   "metadata": {},
   "outputs": [
    {
     "name": "stdout",
     "output_type": "stream",
     "text": [
      "- - - - - - - - - - - \n",
      "0 0 0 | 0 6 4 | 0 0 0 \n",
      "7 0 0 | 0 0 0 | 3 9 0 \n",
      "8 0 0 | 0 0 0 | 0 0 0 \n",
      "- - - - - - - - - - - \n",
      "0 0 0 | 5 0 2 | 0 6 0 \n",
      "0 8 0 | 4 0 0 | 0 0 0 \n",
      "3 5 0 | 6 0 0 | 0 7 0 \n",
      "- - - - - - - - - - - \n",
      "0 0 2 | 0 0 0 | 1 0 3 \n",
      "0 0 1 | 0 5 9 | 0 0 0 \n",
      "0 0 0 | 0 0 0 | 7 0 0 \n",
      "- - - - - - - - - - - \n"
     ]
    }
   ],
   "source": [
    "sudoku = [\n",
    "    [0, 0, 0, 0, 6, 4, 0, 0, 0],\n",
    "    [7, 0, 0, 0, 0, 0, 3, 9, 0],\n",
    "    [8, 0, 0, 0, 0, 0, 0, 0, 0],\n",
    "    [0, 0, 0, 5, 0, 2, 0, 6, 0],\n",
    "    [0, 8, 0, 4, 0, 0, 0, 0, 0],\n",
    "    [3, 5, 0, 6, 0, 0, 0, 7, 0],\n",
    "    [0, 0, 2, 0, 0, 0, 1, 0, 3],\n",
    "    [0, 0, 1, 0, 5, 9, 0, 0, 0],\n",
    "    [0, 0, 0, 0, 0, 0, 7, 0, 0]\n",
    "]\n",
    "print('- '*11)\n",
    "for j, satir_sudoku in enumerate(sudoku):\n",
    "    for i,n in enumerate(satir_sudoku):\n",
    "        if (i+1)%3==0 and i+1!= 9:\n",
    "            print(n,'|', end=' ')\n",
    "        else:\n",
    "            print(n, end=' ')\n",
    "    if (j+1)%3==0:\n",
    "        print('\\n'+'- '*11, end='')\n",
    "    print(end='\\n')  "
   ]
  },
  {
   "cell_type": "code",
   "execution_count": null,
   "metadata": {},
   "outputs": [],
   "source": [
    "sudoku = [\n",
    "    [0, 0, 0, 0, 6, 4, 0, 0, 0],\n",
    "    [7, 0, 0, 0, 0, 0, 3, 9, 0],\n",
    "    [8, 0, 0, 0, 0, 0, 0, 0, 0],\n",
    "    [0, 0, 0, 5, 0, 2, 0, 6, 0],\n",
    "    [0, 8, 0, 4, 0, 0, 0, 0, 0],\n",
    "    [3, 5, 0, 6, 0, 0, 0, 7, 0],\n",
    "    [0, 0, 2, 0, 0, 0, 1, 0, 3],\n",
    "    [0, 0, 1, 0, 5, 9, 0, 0, 0],\n",
    "    [0, 0, 0, 0, 0, 0, 7, 0, 0]\n",
    "]\n",
    "row, count = '', 3\n",
    "for j, sud in enumerate(sudoku):\n",
    "    for i, ch in enumerate(sud):\n",
    "        if count == 3:\n",
    "            print(11 * '- ')\n",
    "            count = 0\n",
    "        row += str(ch) if i % 3 else '|' + str(ch)\n",
    "    count += 1\n",
    "    print(*row[1:])\n",
    "    row = ''\n",
    "print(11 * '- ')"
   ]
  },
  {
   "cell_type": "code",
   "execution_count": null,
   "metadata": {},
   "outputs": [],
   "source": []
  },
  {
   "cell_type": "code",
   "execution_count": null,
   "metadata": {},
   "outputs": [],
   "source": [
    "def is_ord_sub(s, b):\n",
    "\tfor i in s:\n",
    "\t\tif i in b:\n",
    "\t\t\tb = b[b.index(i)+1:]\n",
    "\t\telse:\n",
    "\t\t\treturn False\n",
    "\treturn True"
   ]
  },
  {
   "cell_type": "code",
   "execution_count": null,
   "metadata": {},
   "outputs": [],
   "source": [
    "def is_ord_sub(smlst, biglst):\n",
    "\tfor x in reversed(biglst):\n",
    "\t\tif smlst and x == smlst[-1]:\n",
    "\t\t\t\tsmlst.pop()\n",
    "\treturn smlst == []"
   ]
  },
  {
   "cell_type": "code",
   "execution_count": null,
   "metadata": {},
   "outputs": [],
   "source": [
    "def encrypt(word):\n",
    "\treturn word[::-1].translate(str.maketrans('aeou', '0123')) + 'aca'"
   ]
  },
  {
   "cell_type": "code",
   "execution_count": 15,
   "metadata": {},
   "outputs": [
    {
     "data": {
      "text/plain": [
       "'zyxwvutsrqponmlkjihgfedcba'"
      ]
     },
     "execution_count": 15,
     "metadata": {},
     "output_type": "execute_result"
    }
   ],
   "source": [
    "def atbash(txt):\n",
    "    a = 'ABCDEFGHIJKLMNOPQRSTUVWXYZabcdefghijklmnopqrstuvwxyz'\n",
    "    b, c = a[::-1], {}\n",
    "    for k, v in zip(a, b):\n",
    "        c[k] = v\n",
    "    return ''.join(c[ch] if ch in a else ch for ch in txt).swapcase()\n",
    "\n",
    "atbash(\"abcdefghijklmnopqrstuvwxyz\")"
   ]
  },
  {
   "cell_type": "code",
   "execution_count": 16,
   "metadata": {},
   "outputs": [
    {
     "data": {
      "text/plain": [
       "'ABCDEFGHIJKLMNOPQRSTUVWXYZ'"
      ]
     },
     "execution_count": 16,
     "metadata": {},
     "output_type": "execute_result"
    }
   ],
   "source": [
    "def atbash(txt):\n",
    "    new = ''\n",
    "    for ch in txt:\n",
    "        if 65 <= ord(ch) <= 90:\n",
    "            new += chr(ord(ch) + 32)\n",
    "        elif 97 <= ord(ch) <= 122:\n",
    "            new += chr(ord(ch) - 32)\n",
    "        else:\n",
    "            new += ch\n",
    "    return new\n",
    "atbash(\"abcdefghijklmnopqrstuvwxyz\")"
   ]
  },
  {
   "cell_type": "code",
   "execution_count": 22,
   "metadata": {},
   "outputs": [
    {
     "data": {
      "text/plain": [
       "0"
      ]
     },
     "execution_count": 22,
     "metadata": {},
     "output_type": "execute_result"
    }
   ],
   "source": [
    "def sum_of_evens(lst):\n",
    "    total = 0\n",
    "    for n_1 in lst:\n",
    "        for n_2 in n_1:\n",
    "            if n_2 % 2 == 0:\n",
    "                total += n_2\n",
    "    return total\n",
    "\n",
    "sum_of_evens([\n",
    "\t\t[1, 3, 7, 9], \n",
    "\t\t[11, 13, 15, 17], \n",
    "\t\t[19, 21, 23, 25]\n",
    "\t])"
   ]
  },
  {
   "cell_type": "code",
   "execution_count": 29,
   "metadata": {},
   "outputs": [
    {
     "data": {
      "text/plain": [
       "0"
      ]
     },
     "execution_count": 29,
     "metadata": {},
     "output_type": "execute_result"
    }
   ],
   "source": [
    "def sum_of_evens(lst):\n",
    "    return sum([n_2 for n_1 in lst for n_2 in n_1 if n_2 % 2 == 0 ])\n",
    "sum_of_evens([\n",
    "\t\t[1, 3, 7, 9], \n",
    "\t\t[11, 13, 15, 17], \n",
    "\t\t[19, 21, 23, 25]\n",
    "\t])"
   ]
  },
  {
   "cell_type": "code",
   "execution_count": 59,
   "metadata": {},
   "outputs": [
    {
     "data": {
      "text/plain": [
       "[[1, 1], [2, 2]]"
      ]
     },
     "execution_count": 59,
     "metadata": {},
     "output_type": "execute_result"
    }
   ],
   "source": [
    "def advanced_sort(lst):\n",
    "    result = []\n",
    "    lst.reverse()\n",
    "    while lst:\n",
    "        item = [lst.pop()]\n",
    "        for el in lst.copy():\n",
    "            if el == item[0]:\n",
    "                item.append(el)\n",
    "                lst.remove(el)\n",
    "        result.append(item)   \n",
    "    return result\n",
    "    \n",
    "    \n",
    "advanced_sort([1,2,1,2])"
   ]
  },
  {
   "cell_type": "code",
   "execution_count": null,
   "metadata": {},
   "outputs": [],
   "source": [
    "def advanced_sort(lst):\n",
    "\treturn [[i] * lst.count(i) for i in sorted(set(lst), key=lst.index)]"
   ]
  },
  {
   "cell_type": "code",
   "execution_count": 62,
   "metadata": {},
   "outputs": [
    {
     "name": "stdout",
     "output_type": "stream",
     "text": [
      "[1, 1]\n",
      "[2, 2]\n",
      "[1, 1]\n",
      "[2, 2]\n"
     ]
    },
    {
     "data": {
      "text/plain": [
       "[[1, 1], [2, 2]]"
      ]
     },
     "execution_count": 62,
     "metadata": {},
     "output_type": "execute_result"
    }
   ],
   "source": [
    "def advanced_sort(ls):\n",
    "    out = []\n",
    "    for el in ls:\n",
    "        s = [x for x in ls if x == el]\n",
    "        print(s)\n",
    "        if s not in out:\n",
    "            out.append(s)\n",
    "    return out\n",
    "advanced_sort([1,2,1,2])"
   ]
  },
  {
   "cell_type": "code",
   "execution_count": 61,
   "metadata": {},
   "outputs": [
    {
     "data": {
      "text/plain": [
       "['r', 'r']"
      ]
     },
     "execution_count": 61,
     "metadata": {},
     "output_type": "execute_result"
    }
   ],
   "source": [
    "['r'] * 2"
   ]
  },
  {
   "cell_type": "code",
   "execution_count": 72,
   "metadata": {},
   "outputs": [
    {
     "name": "stdout",
     "output_type": "stream",
     "text": [
      "[['eat', 'tea', 'ate'], ['tan', 'nat'], ['bat']]\n"
     ]
    }
   ],
   "source": [
    "data = [\"eat\", \"tea\", \"tan\", \"ate\", \"nat\", \"bat\"]\n",
    "# main = []\n",
    "# data.reverse()\n",
    "# while data:\n",
    "#     item = [data.pop()]\n",
    "#     for each in data.copy():\n",
    "#         if sorted(item[0]) == sorted(each):\n",
    "#             item.append(each)\n",
    "#             data.remove(each)\n",
    "#     main.append(item)  \n",
    "out = []\n",
    "for el in data:\n",
    "    s = [x for x in data if sorted(el) == sorted(x)]\n",
    "    if s not in out: out.append(s)\n",
    "print(out)\n",
    "# print(main)"
   ]
  },
  {
   "cell_type": "code",
   "execution_count": 73,
   "metadata": {},
   "outputs": [
    {
     "name": "stdout",
     "output_type": "stream",
     "text": [
      "[['eat', 'tea', 'ate'], ['tan', 'nat'], ['bat']]\n"
     ]
    }
   ],
   "source": [
    "data = [\"eat\", \"tea\", \"tan\", \"ate\", \"nat\", \"bat\"]\n",
    "result = []\n",
    "for el in data:\n",
    "    s = [x for x in data if sorted(el) == sorted(x)]\n",
    "    if s not in result: result.append(s)\n",
    "print(result)"
   ]
  },
  {
   "cell_type": "code",
   "execution_count": 15,
   "metadata": {},
   "outputs": [
    {
     "data": {
      "text/plain": [
       "'list'"
      ]
     },
     "execution_count": 15,
     "metadata": {},
     "output_type": "execute_result"
    }
   ],
   "source": [
    "def get_type(value):\n",
    "    a = str(type(value)).index(\"'\")\n",
    "    b = str(type(value)).index(\"'\", a + 1)\n",
    "    return str(type(value))[a + 1:b]\n",
    "#     print(type(value))\n",
    "get_type([])"
   ]
  },
  {
   "cell_type": "code",
   "execution_count": 18,
   "metadata": {},
   "outputs": [
    {
     "data": {
      "text/plain": [
       "False"
      ]
     },
     "execution_count": 18,
     "metadata": {},
     "output_type": "execute_result"
    }
   ],
   "source": [
    "def one_odd_one_even(n):\n",
    "    for i, c in enumerate(str(n)):\n",
    "        if int(c) % 2 == int(str(n)[i -1]) % 2:\n",
    "            return False\n",
    "            break\n",
    "    else: return True\n",
    "    \n",
    "one_odd_one_even(22) \n",
    "def one_odd_one_even(n):\n",
    "\treturn n//10%2 != n%10%2\n",
    "        "
   ]
  },
  {
   "cell_type": "code",
   "execution_count": null,
   "metadata": {},
   "outputs": [],
   "source": []
  }
 ],
 "metadata": {
  "kernelspec": {
   "display_name": "Python 3.8.2 32-bit",
   "language": "python",
   "name": "python38232bitbc75585ea5a4422f9339869f78ad8c64"
  },
  "language_info": {
   "codemirror_mode": {
    "name": "ipython",
    "version": 3
   },
   "file_extension": ".py",
   "mimetype": "text/x-python",
   "name": "python",
   "nbconvert_exporter": "python",
   "pygments_lexer": "ipython3",
   "version": "3.8.2"
  }
 },
 "nbformat": 4,
 "nbformat_minor": 4
}

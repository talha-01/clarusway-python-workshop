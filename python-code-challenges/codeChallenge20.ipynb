{
 "cells": [
  {
   "cell_type": "code",
   "execution_count": 15,
   "metadata": {},
   "outputs": [
    {
     "name": "stdout",
     "output_type": "stream",
     "text": [
      "6: even\n",
      "12: even\n",
      "-5: odd\n",
      "11: odd\n"
     ]
    }
   ],
   "source": [
    "print(*map(lambda x: f'{x}: even' if x % 2 ==0 else f'{x}: odd', [6,12,-5,11]), sep ='\\n')"
   ]
  },
  {
   "cell_type": "code",
   "execution_count": 14,
   "metadata": {},
   "outputs": [
    {
     "name": "stdout",
     "output_type": "stream",
     "text": [
      "[6.0, 6.0, 6.0, 6.0]\n"
     ]
    }
   ],
   "source": [
    "nums1= [9,6,7,4]\n",
    "nums2= [3,6,5,8]\n",
    "print(list(map(lambda x, y: (x+y)/2, nums1, nums2)))"
   ]
  },
  {
   "cell_type": "code",
   "execution_count": 28,
   "metadata": {},
   "outputs": [
    {
     "data": {
      "text/plain": [
       "['49',\n",
       " '492',\n",
       " '4929',\n",
       " '32',\n",
       " '89',\n",
       " '12',\n",
       " '129',\n",
       " '1298',\n",
       " '12985',\n",
       " '56',\n",
       " '563',\n",
       " '5632',\n",
       " '56327',\n",
       " '563272',\n",
       " '5632725',\n",
       " '56327256',\n",
       " '25']"
      ]
     },
     "execution_count": 28,
     "metadata": {},
     "output_type": "execute_result"
    }
   ],
   "source": [
    "def longest_substring(digits):\n",
    "    digits = '0' + digits\n",
    "    results = []\n",
    "    start = 0\n",
    "    for i in range(len(digits) - 1):\n",
    "        if int(digits[i]) % 2 == int(digits[i + 1]) % 2:\n",
    "            start = i\n",
    "        else:\n",
    "            substring = digits[start + 1:i + 1] + digits[i + 1]\n",
    "            results.append(substring)\n",
    "    return results\n",
    "    \n",
    "        \n",
    "\n",
    "    \n",
    "    \n",
    "longest_substring(\"492932891298531563272568225\")"
   ]
  },
  {
   "cell_type": "code",
   "execution_count": 2,
   "metadata": {},
   "outputs": [
    {
     "name": "stdout",
     "output_type": "stream",
     "text": [
      "0 0\n",
      "0 1\n",
      "0 2\n",
      "1 0\n",
      "1 1\n",
      "1 2\n",
      "2 0\n",
      "2 1\n",
      "2 2\n",
      "0 3\n",
      "0 4\n",
      "0 5\n",
      "1 3\n",
      "1 4\n",
      "1 5\n",
      "2 3\n",
      "2 4\n",
      "2 5\n",
      "0 6\n",
      "0 7\n",
      "0 8\n",
      "1 6\n",
      "1 7\n",
      "1 8\n",
      "2 6\n",
      "2 7\n",
      "2 8\n",
      "3 0\n",
      "3 1\n",
      "3 2\n",
      "4 0\n",
      "4 1\n",
      "4 2\n",
      "5 0\n",
      "5 1\n",
      "5 2\n",
      "3 3\n",
      "3 4\n",
      "3 5\n",
      "4 3\n",
      "4 4\n",
      "4 5\n",
      "5 3\n",
      "5 4\n",
      "5 5\n",
      "3 6\n",
      "3 7\n",
      "3 8\n",
      "4 6\n",
      "4 7\n",
      "4 8\n",
      "5 6\n",
      "5 7\n",
      "5 8\n",
      "6 0\n",
      "6 1\n",
      "6 2\n",
      "7 0\n",
      "7 1\n",
      "7 2\n",
      "8 0\n",
      "8 1\n",
      "8 2\n",
      "6 3\n",
      "6 4\n",
      "6 5\n",
      "7 3\n",
      "7 4\n",
      "7 5\n",
      "8 3\n",
      "8 4\n",
      "8 5\n",
      "6 6\n",
      "6 7\n",
      "6 8\n",
      "7 6\n",
      "7 7\n",
      "7 8\n",
      "8 6\n",
      "8 7\n",
      "8 8\n"
     ]
    }
   ],
   "source": [
    "for x in [[0,1,2], [3,4,5], [6,7,8]]:\n",
    "        for y in [[0,1,2],[3,4,5], [6,7,8]]:\n",
    "            for z in x:\n",
    "                for t in y:\n",
    "                    print(z, t)\n",
    "    "
   ]
  },
  {
   "cell_type": "code",
   "execution_count": 151,
   "metadata": {},
   "outputs": [
    {
     "data": {
      "text/plain": [
       "'deneme'"
      ]
     },
     "execution_count": 151,
     "metadata": {},
     "output_type": "execute_result"
    }
   ],
   "source": [
    "d = 'deneme'\n",
    "d[:]"
   ]
  },
  {
   "cell_type": "code",
   "execution_count": 143,
   "metadata": {},
   "outputs": [
    {
     "data": {
      "text/plain": [
       "1"
      ]
     },
     "execution_count": 143,
     "metadata": {},
     "output_type": "execute_result"
    }
   ],
   "source": [
    "def lcm(nums):\n",
    "    pro, n = 1, 2\n",
    "    while max(nums) > 1:\n",
    "        sub, switch = [], 'Off'\n",
    "        for num in nums:\n",
    "            if num % n == 0:\n",
    "                sub.append(int(num / n))\n",
    "                switch = 'On'\n",
    "            else:\n",
    "                sub.append(num)\n",
    "        nums = sub\n",
    "        if switch == 'On': pro *= n\n",
    "        if any(j%n == 0 for j in nums) == False:\n",
    "            n += 1\n",
    "    return pro\n",
    "lcm([1])"
   ]
  },
  {
   "cell_type": "code",
   "execution_count": null,
   "metadata": {},
   "outputs": [],
   "source": []
  },
  {
   "cell_type": "code",
   "execution_count": 33,
   "metadata": {},
   "outputs": [
    {
     "data": {
      "text/plain": [
       "33182691695793571702505472"
      ]
     },
     "execution_count": 33,
     "metadata": {},
     "output_type": "execute_result"
    }
   ],
   "source": [
    "def lcm_talha(n1, n2):\n",
    "    num = max(x for x in range(1, min(n1, n2) + 1) if n1 % x == 0 and n2 % x == 0)\n",
    "    return int(num * n1/num * n2/num)\n",
    "lcm_talha(2, 16591345847896785465412187)"
   ]
  },
  {
   "cell_type": "code",
   "execution_count": 35,
   "metadata": {},
   "outputs": [
    {
     "data": {
      "text/plain": [
       "63"
      ]
     },
     "execution_count": 35,
     "metadata": {},
     "output_type": "execute_result"
    }
   ],
   "source": [
    "array = [7, 1, 8, 6, 2, 5, 4, 8, 3, 7]\n",
    "output = 0\n",
    "for i, el in enumerate(array):\n",
    "    if max((i - j) * min(el, array[j]) for j in range(i + 1)) > output:\n",
    "        output = max((i - j) * min(el, array[j]) for j in range(i + 1))\n",
    "output"
   ]
  },
  {
   "cell_type": "code",
   "execution_count": null,
   "metadata": {},
   "outputs": [],
   "source": []
  },
  {
   "cell_type": "code",
   "execution_count": null,
   "metadata": {},
   "outputs": [],
   "source": []
  },
  {
   "cell_type": "code",
   "execution_count": 40,
   "metadata": {},
   "outputs": [
    {
     "name": "stdout",
     "output_type": "stream",
     "text": [
      "4\n",
      "3\n"
     ]
    }
   ],
   "source": [
    "lst1 = [4,3,2]\n",
    "lst2 =[3,7,5,4]\n",
    "lst = lst1 + lst2\n",
    "lst.sort()\n",
    "a = len(lst)//2\n",
    "if len(lst)%2 == 0: \n",
    "    median = float((lst[a] + lst[a - 1]) / 2)\n",
    "else:\n",
    "    median = lst[a]\n",
    "mode = max(lst, key=lst.count)\n",
    "print(median)\n",
    "print(mode)"
   ]
  },
  {
   "cell_type": "code",
   "execution_count": 2,
   "metadata": {},
   "outputs": [
    {
     "data": {
      "text/plain": [
       "16"
      ]
     },
     "execution_count": 2,
     "metadata": {},
     "output_type": "execute_result"
    }
   ],
   "source": [
    "def pentagonal(num):\n",
    "\tif num==1: return 1\n",
    "\treturn pentagonal(num-1) + 5*(num-1)\n",
    "pentagonal(3)"
   ]
  },
  {
   "cell_type": "code",
   "execution_count": 7,
   "metadata": {},
   "outputs": [
    {
     "data": {
      "text/plain": [
       "True"
      ]
     },
     "execution_count": 7,
     "metadata": {},
     "output_type": "execute_result"
    }
   ],
   "source": [
    "def double_letters(word):\n",
    "    return any(word[i] == word[i-1] for i in range(1, len(word)))\n",
    "double_letters('tesst')"
   ]
  },
  {
   "cell_type": "code",
   "execution_count": 9,
   "metadata": {},
   "outputs": [
    {
     "data": {
      "text/plain": [
       "0"
      ]
     },
     "execution_count": 9,
     "metadata": {},
     "output_type": "execute_result"
    }
   ],
   "source": [
    "def cars(wheels, bodies, figures):\n",
    "    return(min(wheels // 4, bodies, figures // 2))\n",
    "    \n",
    "cars(3, 15, 87)\n",
    "    "
   ]
  },
  {
   "cell_type": "code",
   "execution_count": 12,
   "metadata": {},
   "outputs": [
    {
     "data": {
      "text/plain": [
       "'Rocky'"
      ]
     },
     "execution_count": 12,
     "metadata": {},
     "output_type": "execute_result"
    }
   ],
   "source": [
    "def letters_only(txt):\n",
    "    return ''.join(ch for ch in txt if ch.isalpha())\n",
    "    \n",
    "letters_only(\"R!=:~0o0./c&}9k`60=y\")"
   ]
  },
  {
   "cell_type": "code",
   "execution_count": 25,
   "metadata": {},
   "outputs": [
    {
     "name": "stdout",
     "output_type": "stream",
     "text": [
      "{1, 2, 3, 4, 5, 6}\n"
     ]
    }
   ],
   "source": [
    "x = [([1], [2, 3], (4, 5, 6))]\n",
    "print(set(int(ch) for ch in str(x) if ch.isdigit()))"
   ]
  },
  {
   "cell_type": "code",
   "execution_count": 20,
   "metadata": {},
   "outputs": [
    {
     "data": {
      "text/plain": [
       "{1, 2, 3, 4, 5, 6, 7}"
      ]
     },
     "execution_count": 20,
     "metadata": {},
     "output_type": "execute_result"
    }
   ],
   "source": [
    "x = [([1, 2], [3, 4, 5], (6, 7))]\n",
    "x_set = set()\n",
    "for i in range(len(x)):\n",
    "    for j in range(len(x[i])):\n",
    "        for z in range(len(x[i][j])):\n",
    "            x_set.add(x[i][j][z])\n",
    "x_set"
   ]
  },
  {
   "cell_type": "code",
   "execution_count": 24,
   "metadata": {},
   "outputs": [
    {
     "data": {
      "text/plain": [
       "{1, 2, 3, 4, 5, 6}"
      ]
     },
     "execution_count": 24,
     "metadata": {},
     "output_type": "execute_result"
    }
   ],
   "source": [
    "x = [([1], [2, 3], (4, 5, 6))]\n",
    "{x[i][j][z] for i in range(len(x)) for j in range(len(x[i])) for z in range(len(x[i][j]))}"
   ]
  },
  {
   "cell_type": "code",
   "execution_count": 31,
   "metadata": {},
   "outputs": [
    {
     "data": {
      "text/plain": [
       "90981"
      ]
     },
     "execution_count": 31,
     "metadata": {},
     "output_type": "execute_result"
    }
   ],
   "source": [
    "def rearranged_difference(num):\n",
    "    return int(''.join(sorted(str(num), reverse = True))) - int(''.join(sorted(str(num))))\n",
    "\n",
    "    \n",
    "rearranged_difference(90010)"
   ]
  },
  {
   "cell_type": "code",
   "execution_count": 48,
   "metadata": {},
   "outputs": [
    {
     "ename": "SyntaxError",
     "evalue": "can't use starred expression here (<ipython-input-48-f0e14c9027da>, line 1)",
     "output_type": "error",
     "traceback": [
      "\u001b[1;36m  File \u001b[1;32m\"<ipython-input-48-f0e14c9027da>\"\u001b[1;36m, line \u001b[1;32m1\u001b[0m\n\u001b[1;33m    a = (*'deneme')\u001b[0m\n\u001b[1;37m         ^\u001b[0m\n\u001b[1;31mSyntaxError\u001b[0m\u001b[1;31m:\u001b[0m can't use starred expression here\n"
     ]
    }
   ],
   "source": []
  },
  {
   "cell_type": "code",
   "execution_count": 44,
   "metadata": {},
   "outputs": [
    {
     "data": {
      "text/plain": [
       "'Where did my vowels go?'"
      ]
     },
     "execution_count": 44,
     "metadata": {},
     "output_type": "execute_result"
    }
   ],
   "source": [
    "def uncensor(txt, vowels):\n",
    "    s, i = '', 0\n",
    "    for ch in txt:\n",
    "        if ch == '*':\n",
    "            s += vowels[i]\n",
    "            i += 1\n",
    "        else:\n",
    "            s += ch\n",
    "    return s\n",
    "\n",
    "uncensor(\"Wh*r* d*d my v*w*ls g*?\", \"eeioeo\")"
   ]
  },
  {
   "cell_type": "code",
   "execution_count": 54,
   "metadata": {},
   "outputs": [
    {
     "data": {
      "text/plain": [
       "2"
      ]
     },
     "execution_count": 54,
     "metadata": {},
     "output_type": "execute_result"
    }
   ],
   "source": [
    "# def tallest_skyscraper(lst):\n",
    "#     num = 0\n",
    "#     for x in range(len(lst[0])):\n",
    "#         n = [lst[y][x] for y in range(len(lst))].count(1)\n",
    "#         if n > num: num = n \n",
    "#     return num\n",
    "    \n",
    "def tallest_skyscraper(lst):\n",
    "    return sum(1 in s for s in lst)\n",
    "\n",
    "\n",
    "tallest_skyscraper([\n",
    "\t[0, 0, 0, 0, 0, 0],\n",
    "\t[0, 0, 0, 0, 0, 0],\n",
    "\t[1, 1, 1, 1, 0, 0],\n",
    "\t[1, 1, 1, 1, 1, 1]\n",
    "])"
   ]
  },
  {
   "cell_type": "code",
   "execution_count": 7,
   "metadata": {},
   "outputs": [
    {
     "name": "stdout",
     "output_type": "stream",
     "text": [
      "10 is even\n"
     ]
    }
   ],
   "source": [
    "num = 10\n",
    "print(f\"{num} is {['even', 'odd'][num%2]}\")"
   ]
  },
  {
   "cell_type": "code",
   "execution_count": 13,
   "metadata": {},
   "outputs": [
    {
     "data": {
      "text/plain": [
       "{1: '1', 2: '4', 3: '9', 4: '16', 5: '25', 6: '36'}"
      ]
     },
     "execution_count": 13,
     "metadata": {},
     "output_type": "execute_result"
    }
   ],
   "source": [
    "x = [([3], [4, 2], (1, 5, 6))]\n",
    "x_set = {x[i][j][z] for i in range(len(x)) for j in range(len(x[i])) for z in range(len(x[i][j]))}\n",
    "{i : str(i ** 2) for i in x_set}\n"
   ]
  },
  {
   "cell_type": "code",
   "execution_count": 16,
   "metadata": {},
   "outputs": [
    {
     "data": {
      "text/plain": [
       "{3: '9', 4: '16', 2: '4', 1: '1', 5: '25', 6: '36'}"
      ]
     },
     "execution_count": 16,
     "metadata": {},
     "output_type": "execute_result"
    }
   ],
   "source": [
    "x = [([3], [4, 2], (1, 5, 6))]\n",
    "{x[i][j][z] : str(x[i][j][z] ** 2) for i in range(len(x)) for j in range(len(x[i])) for z in range(len(x[i][j]))}"
   ]
  },
  {
   "cell_type": "code",
   "execution_count": 17,
   "metadata": {},
   "outputs": [
    {
     "data": {
      "text/plain": [
       "{3: '9', 4: '16', 2: '4', 1: '1', 5: '25', 6: '36'}"
      ]
     },
     "execution_count": 17,
     "metadata": {},
     "output_type": "execute_result"
    }
   ],
   "source": [
    "x = [([3], [4, 2], (1, 5, 6))]\n",
    "{x[i][j][z] : str(x[i][j][z] ** 2) for i in range(len(x)) for j in range(len(x[i])) for z in range(len(x[i][j]))}"
   ]
  }
 ],
 "metadata": {
  "kernelspec": {
   "display_name": "Python 3.8.2 32-bit",
   "language": "python",
   "name": "python38232bitbc75585ea5a4422f9339869f78ad8c64"
  },
  "language_info": {
   "codemirror_mode": {
    "name": "ipython",
    "version": 3
   },
   "file_extension": ".py",
   "mimetype": "text/x-python",
   "name": "python",
   "nbconvert_exporter": "python",
   "pygments_lexer": "ipython3",
   "version": "3.8.2"
  }
 },
 "nbformat": 4,
 "nbformat_minor": 4
}

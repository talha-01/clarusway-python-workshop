{
 "cells": [
  {
   "cell_type": "code",
   "execution_count": 2,
   "metadata": {},
   "outputs": [
    {
     "data": {
      "text/plain": [
       "['((()', ')', '(', '(', ')))']"
      ]
     },
     "execution_count": 2,
     "metadata": {},
     "output_type": "execute_result"
    }
   ],
   "source": [
    "def split(txt):\n",
    "    return txt.split(')(')\n",
    "    \n",
    "\n",
    "split(\"((())())(()(()()))\")"
   ]
  },
  {
   "cell_type": "code",
   "execution_count": null,
   "metadata": {},
   "outputs": [],
   "source": []
  },
  {
   "cell_type": "code",
   "execution_count": null,
   "metadata": {},
   "outputs": [],
   "source": []
  },
  {
   "cell_type": "code",
   "execution_count": null,
   "metadata": {},
   "outputs": [],
   "source": []
  },
  {
   "cell_type": "code",
   "execution_count": null,
   "metadata": {},
   "outputs": [],
   "source": []
  },
  {
   "cell_type": "code",
   "execution_count": 2,
   "metadata": {},
   "outputs": [
    {
     "name": "stdout",
     "output_type": "stream",
     "text": [
      "~~~~~~~~~~~~.|.~~~~~~~~~~~~\n",
      "~~~~~~~~~.|..|..|.~~~~~~~~~\n",
      "~~~~~~.|..|..|..|..|.~~~~~~\n",
      "~~~.|..|..|..|..|..|..|.~~~\n",
      ".|..|..|..|..|..|..|..|..|.\n",
      "~~~.|..|..|..|..|..|..|.~~~\n",
      "~~~~~~.|..|..|..|..|.~~~~~~\n",
      "~~~~~~~~~.|..|..|.~~~~~~~~~\n",
      "~~~~~~~~~~~~.|.~~~~~~~~~~~~\n"
     ]
    }
   ],
   "source": [
    "n = 4\n",
    "for i in range(n):\n",
    "    print( int(((n-1)*3-(i*2 + 1))/2)*'~~~'+(i*2+1)*'.|.'+int(((n-1)*3-(i*2+1))/2)*'~~~')\n",
    "print( ((n-1)*3)*'.|.')\n",
    "for i in sorted(range(n), reverse = True):\n",
    "    print( int(((n-1)*3-(i*2 + 1))/2)*'~~~'+(i*2+1)*'.|.'+int(((n-1)*3-(i*2+1))/2)*'~~~')"
   ]
  },
  {
   "cell_type": "code",
   "execution_count": 21,
   "metadata": {},
   "outputs": [
    {
     "name": "stdout",
     "output_type": "stream",
     "text": [
      "\n",
      "~~~.|.~~~\n",
      ".|..|..|.\n",
      "~~~.|.~~~\n",
      "\n",
      "~~~~~~.|.~~~~~~\n",
      "~~~.|..|..|.~~~\n",
      ".|..|..|..|..|.\n",
      "~~~.|..|..|.~~~\n",
      "~~~~~~.|.~~~~~~\n",
      "\n",
      "~~~~~~~~~.|.~~~~~~~~~\n",
      "~~~~~~.|..|..|.~~~~~~\n",
      "~~~.|..|..|..|..|.~~~\n",
      ".|..|..|..|..|..|..|.\n",
      "~~~.|..|..|..|..|.~~~\n",
      "~~~~~~.|..|..|.~~~~~~\n",
      "~~~~~~~~~.|.~~~~~~~~~\n",
      "\n",
      "~~~~~~~~~~~~.|.~~~~~~~~~~~~\n",
      "~~~~~~~~~.|..|..|.~~~~~~~~~\n",
      "~~~~~~.|..|..|..|..|.~~~~~~\n",
      "~~~.|..|..|..|..|..|..|.~~~\n",
      ".|..|..|..|..|..|..|..|..|.\n",
      "~~~.|..|..|..|..|..|..|.~~~\n",
      "~~~~~~.|..|..|..|..|.~~~~~~\n",
      "~~~~~~~~~.|..|..|.~~~~~~~~~\n",
      "~~~~~~~~~~~~.|.~~~~~~~~~~~~\n",
      "\n",
      "~~~~~~~~~~~~~~~.|.~~~~~~~~~~~~~~~\n",
      "~~~~~~~~~~~~.|..|..|.~~~~~~~~~~~~\n",
      "~~~~~~~~~.|..|..|..|..|.~~~~~~~~~\n",
      "~~~~~~.|..|..|..|..|..|..|.~~~~~~\n",
      "~~~.|..|..|..|..|..|..|..|..|.~~~\n",
      ".|..|..|..|..|..|..|..|..|..|..|.\n",
      "~~~.|..|..|..|..|..|..|..|..|.~~~\n",
      "~~~~~~.|..|..|..|..|..|..|.~~~~~~\n",
      "~~~~~~~~~.|..|..|..|..|.~~~~~~~~~\n",
      "~~~~~~~~~~~~.|..|..|.~~~~~~~~~~~~\n",
      "~~~~~~~~~~~~~~~.|.~~~~~~~~~~~~~~~\n"
     ]
    }
   ],
   "source": [
    "def diamond(n):\n",
    "    middle = n * 2 + 1\n",
    "    for i in range(n):\n",
    "        print(int((middle - (i*2 + 1))/2) * '~~~' + (i*2+1)*'.|.' + int((middle - (i*2 + 1))/2) * '~~~')\n",
    "    print(middle * '.|.')\n",
    "    for i in sorted(range(n), reverse = True):\n",
    "        print(int((middle - (i*2 + 1))/2) * '~~~' + (i*2+1)*'.|.' + int((middle - (i*2 + 1))/2) * '~~~')\n",
    "\n",
    "for n in range(1, 6):\n",
    "    print()\n",
    "    diamond(n)"
   ]
  },
  {
   "cell_type": "code",
   "execution_count": 14,
   "metadata": {},
   "outputs": [
    {
     "data": {
      "text/plain": [
       "[[0, 0, 0, 0, 0, 1],\n",
       " [0, 0, 0, 0, 1, 0],\n",
       " [0, 0, 0, 1, 0, 0],\n",
       " [0, 0, 1, 0, 0, 0],\n",
       " [0, 1, 0, 0, 0, 0],\n",
       " [1, 0, 0, 0, 0, 0]]"
      ]
     },
     "execution_count": 14,
     "metadata": {},
     "output_type": "execute_result"
    }
   ],
   "source": [
    "def id_mtrx(n):\n",
    "    mtrx = []\n",
    "    if type(n) != int:\n",
    "        return 'Error'\n",
    "    elif n < 0:\n",
    "        n = abs(n)\n",
    "        for i in sorted(range(n), reverse = True):\n",
    "            mtrx.append([1 if i == a else 0 for a in range(n)])\n",
    "    else:\n",
    "        for i in range(n):\n",
    "            mtrx.append([1 if i == a else 0 for a in range(n)])\n",
    "    return mtrx\n",
    "        \n",
    "id_mtrx(-6)"
   ]
  },
  {
   "cell_type": "code",
   "execution_count": null,
   "metadata": {},
   "outputs": [],
   "source": [
    "def hamming_distance(txt1, txt2):\n",
    "    return sum(0 if x == y else 1 for x, y in zip(txt1, txt2))\n",
    "\n",
    "    "
   ]
  },
  {
   "cell_type": "code",
   "execution_count": null,
   "metadata": {},
   "outputs": [],
   "source": [
    "def evenly_divisible(a, b, c):\n",
    "    return sum(i for i in range(a, b+1) if not i % c)"
   ]
  },
  {
   "cell_type": "code",
   "execution_count": null,
   "metadata": {},
   "outputs": [],
   "source": [
    "def find_odd(lst):\n",
    "    return [i for i in lst if lst.count(i) % 2][0]\n",
    "    "
   ]
  },
  {
   "cell_type": "code",
   "execution_count": 19,
   "metadata": {},
   "outputs": [
    {
     "data": {
      "text/plain": [
       "{'product': 'Cookies', 'change': []}"
      ]
     },
     "execution_count": 19,
     "metadata": {},
     "output_type": "execute_result"
    }
   ],
   "source": [
    "products = [\n",
    "  { 'number': 1, 'price': 100, 'name': 'Orange juice' },\n",
    "  { 'number': 2, 'price': 200, 'name': 'Soda' },\n",
    "  { 'number': 3, 'price': 150, 'name': 'Chocolate snack' },\n",
    "  { 'number': 4, 'price': 250, 'name': 'Cookies' },\n",
    "  { 'number': 5, 'price': 180, 'name': 'Gummy bears' },\n",
    "  { 'number': 6, 'price': 500, 'name': 'Condoms' },\n",
    "  { 'number': 7, 'price': 120, 'name': 'Crackers' },\n",
    "  { 'number': 8, 'price': 220, 'name': 'Potato chips' },\n",
    "  { 'number': 9, 'price': 80,  'name': 'Small snack' }\n",
    "]\n",
    "\n",
    "def vending_machine(products, money, pn):\n",
    "    if not 0<pn<10: return 'Enter a valid product number'\n",
    "    changes = [500, 200, 100, 50, 20, 10]\n",
    "    product = products[pn - 1]['name']\n",
    "    change = money - products[pn - 1]['price']\n",
    "    ch = ''\n",
    "    if change < 0: return 'Not enough money for this product'\n",
    "    while change:\n",
    "        for n in changes:\n",
    "            ch += change // n * (str(n) + ' ')\n",
    "            change %= n\n",
    "    return {'product': product, 'change': [int(i) for i in ch.split()]}\n",
    "    \n",
    "    \n",
    "vending_machine(products, 250, 4)\n",
    "    "
   ]
  },
  {
   "cell_type": "code",
   "execution_count": 18,
   "metadata": {},
   "outputs": [
    {
     "data": {
      "text/plain": [
       "True"
      ]
     },
     "execution_count": 18,
     "metadata": {},
     "output_type": "execute_result"
    }
   ],
   "source": [
    "my_list = ['@'] * 5\n",
    "len(my_list) == my_list.count('@')"
   ]
  },
  {
   "cell_type": "code",
   "execution_count": 1,
   "metadata": {},
   "outputs": [
    {
     "name": "stdout",
     "output_type": "stream",
     "text": [
      "              banana is my favorite fruit.\n"
     ]
    }
   ],
   "source": [
    "txt = \"banana\"\n",
    "\n",
    "x = txt.rjust(20)\n",
    "\n",
    "print(x, \"is my favorite fruit.\")\n"
   ]
  },
  {
   "cell_type": "code",
   "execution_count": null,
   "metadata": {},
   "outputs": [],
   "source": [
    "toys = ['Ball', 'Bear', 'RC_Car', 'RC_Boat']\n",
    "price = [5, 10, 15, 20]\n",
    "budget = 25\n",
    "\n",
    "total_toys = 0\n",
    "while budget and total_toys < len(price):\n",
    "# the questions to ask, inputs and outputs' formats\n",
    "# is this list will be sorted\n",
    "# can we buy same toy,\n",
    "# how many toys will be in the stock for each toy\n",
    "\n",
    "\n"
   ]
  },
  {
   "cell_type": "code",
   "execution_count": 1,
   "metadata": {},
   "outputs": [
    {
     "name": "stdout",
     "output_type": "stream",
     "text": [
      "enter items : 12,15,17\n",
      "[',', ',', '1', '1', '1', '2', '5', '7']\n"
     ]
    }
   ],
   "source": [
    "prices = list(input(\"enter items : \"))\n",
    "prices.sort()\n",
    "print(prices)\n",
    "budget // min(prices)"
   ]
  },
  {
   "cell_type": "code",
   "execution_count": 31,
   "metadata": {},
   "outputs": [
    {
     "name": "stdout",
     "output_type": "stream",
     "text": [
      "[2, 1, 54, 6, 55, 1, 3, 25, 30]\n",
      "[54, 1, 2, 6, 55, 1, 3, 25, 30]\n",
      "[6, 1, 2, 54, 55, 1, 3, 25, 30]\n",
      "[55, 1, 2, 54, 6, 1, 3, 25, 30]\n",
      "[3, 1, 2, 54, 6, 1, 55, 25, 30]\n",
      "[25, 1, 2, 54, 6, 1, 55, 3, 30]\n",
      "[30, 1, 2, 54, 6, 1, 55, 3, 25]\n",
      "[1, 30, 2, 54, 6, 1, 55, 3, 25]\n",
      "[1, 30, 2, 54, 6, 1, 55, 3, 25]\n",
      "[1, 2, 30, 54, 6, 1, 55, 3, 25]\n",
      "[1, 54, 30, 2, 6, 1, 55, 3, 25]\n",
      "[1, 6, 30, 2, 54, 1, 55, 3, 25]\n",
      "[1, 55, 30, 2, 54, 1, 6, 3, 25]\n",
      "[1, 3, 30, 2, 54, 1, 6, 55, 25]\n",
      "[1, 25, 30, 2, 54, 1, 6, 55, 3]\n",
      "[1, 25, 54, 2, 30, 1, 6, 55, 3]\n",
      "[1, 25, 55, 2, 30, 1, 6, 54, 3]\n",
      "[1, 2, 55, 25, 30, 1, 6, 54, 3]\n",
      "[1, 2, 25, 55, 30, 1, 6, 54, 3]\n",
      "[1, 2, 25, 55, 30, 1, 6, 54, 3]\n",
      "[1, 2, 25, 30, 55, 1, 6, 54, 3]\n",
      "[1, 2, 25, 6, 55, 1, 30, 54, 3]\n",
      "[1, 2, 25, 54, 55, 1, 30, 6, 3]\n",
      "[1, 2, 25, 3, 55, 1, 30, 6, 54]\n",
      "[1, 1, 25, 3, 55, 2, 30, 6, 54]\n",
      "[1, 1, 2, 3, 55, 25, 30, 6, 54]\n",
      "[1, 1, 2, 25, 55, 3, 30, 6, 54]\n",
      "[1, 1, 2, 25, 3, 55, 30, 6, 54]\n",
      "[1, 1, 2, 25, 3, 55, 30, 6, 54]\n",
      "[1, 1, 2, 25, 3, 30, 55, 6, 54]\n",
      "[1, 1, 2, 25, 3, 6, 55, 30, 54]\n",
      "[1, 1, 2, 25, 3, 54, 55, 30, 6]\n",
      "[1, 1, 2, 25, 3, 30, 55, 54, 6]\n",
      "[1, 1, 2, 25, 3, 30, 54, 55, 6]\n",
      "[1, 1, 2, 25, 3, 30, 54, 55, 6]\n",
      "[1, 1, 2, 6, 3, 30, 54, 55, 25]\n",
      "[1, 1, 2, 6, 3, 25, 54, 55, 30]\n",
      "[1, 1, 2, 6, 3, 25, 30, 55, 54]\n",
      "[1, 1, 2, 6, 3, 25, 30, 54, 55]\n",
      "[1, 1, 2, 6, 3, 25, 30, 54, 55]\n"
     ]
    }
   ],
   "source": [
    "m = [1,2,54,6,55,1,3, 25, 30]\n",
    " # bubble sort\n",
    "for i, x in enumerate(m):\n",
    "    for j, y in enumerate(m):\n",
    "        if x < y:\n",
    "            m[i], m[j] = m[j], m[i]\n",
    "            print(m)"
   ]
  },
  {
   "cell_type": "code",
   "execution_count": 32,
   "metadata": {},
   "outputs": [
    {
     "name": "stdout",
     "output_type": "stream",
     "text": [
      "[1, 1, 2, 3, 6, 25, 30, 54, 55]\n"
     ]
    }
   ],
   "source": [
    "my_list = [1,2,54,6,55,1,3, 25, 30]\n",
    "for j in range(len(my_list)):\n",
    "    for i in range(len(my_list)-j-1):\n",
    "        if my_list[i] > my_list[i+1]:\n",
    "            my_list[i], my_list[i+1] = my_list[i+1], my_list[i]\n",
    "print(my_list)"
   ]
  },
  {
   "cell_type": "code",
   "execution_count": 58,
   "metadata": {},
   "outputs": [
    {
     "data": {
      "text/plain": [
       "6"
      ]
     },
     "execution_count": 58,
     "metadata": {},
     "output_type": "execute_result"
    }
   ],
   "source": [
    "a = 'fin'\n",
    "b = 'car'\n",
    "sum(1 if x not in set(a) &  se else 0 for x in a + b)"
   ]
  }
 ],
 "metadata": {
  "kernelspec": {
   "display_name": "Python 3",
   "language": "python",
   "name": "python3"
  },
  "language_info": {
   "codemirror_mode": {
    "name": "ipython",
    "version": 3
   },
   "file_extension": ".py",
   "mimetype": "text/x-python",
   "name": "python",
   "nbconvert_exporter": "python",
   "pygments_lexer": "ipython3",
   "version": "3.7.6"
  }
 },
 "nbformat": 4,
 "nbformat_minor": 4
}

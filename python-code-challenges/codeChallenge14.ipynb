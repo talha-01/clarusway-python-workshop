{
 "cells": [
  {
   "cell_type": "code",
   "execution_count": 3,
   "metadata": {},
   "outputs": [
    {
     "name": "stdout",
     "output_type": "stream",
     "text": [
      "13\n",
      "1 t\n",
      "2 i\n",
      "3 s\n",
      "4 h\n",
      "5 v\n",
      "6 n\n",
      "7 o\n",
      "8 e\n",
      "9 d\n",
      "10 f\n",
      "11  \n",
      "12 l\n",
      "13 c\n"
     ]
    }
   ],
   "source": [
    "print(len(set('listen to the voice of enlisted')))\n",
    "for i, a in enumerate(set('listen to the voice of enlisted')):\n",
    "    print(i + 1, a)\n",
    "\n"
   ]
  },
  {
   "cell_type": "code",
   "execution_count": 7,
   "metadata": {},
   "outputs": [
    {
     "name": "stdout",
     "output_type": "stream",
     "text": [
      "25\n"
     ]
    }
   ],
   "source": [
    "numbers = {}\n",
    "\n",
    "numbers['x'] = 12\n",
    "numbers['y'] = 4\n",
    "numbers.update({'z': 3})\n",
    "\n",
    "print(numbers['x'] + numbers['y'] + numbers['z']**2)"
   ]
  },
  {
   "cell_type": "code",
   "execution_count": 8,
   "metadata": {},
   "outputs": [
    {
     "name": "stdout",
     "output_type": "stream",
     "text": [
      "[10, 20, 30, 40, 50, 60, 70, 80, 90, 100]\n"
     ]
    }
   ],
   "source": [
    "numbers_10 = [10, 30, 40, 50, 60, 70, 80, 90, 100]\n",
    "numbers_10.insert(1, 20)\n",
    "print(numbers_10)"
   ]
  },
  {
   "cell_type": "code",
   "execution_count": 9,
   "metadata": {},
   "outputs": [
    {
     "name": "stdout",
     "output_type": "stream",
     "text": [
      "spinach\n"
     ]
    }
   ],
   "source": [
    "fruits_vegetables = [\"fruit\", \"vegetable\", [\"apple\", \"banana\", [\"mango\", \"avocado\"]], \n",
    "                     [\"spinach\", \"broccoli\"]]\n",
    "print(fruits_vegetables[3][0])"
   ]
  },
  {
   "cell_type": "code",
   "execution_count": 10,
   "metadata": {},
   "outputs": [
    {
     "data": {
      "text/plain": [
       "True"
      ]
     },
     "execution_count": 10,
     "metadata": {},
     "output_type": "execute_result"
    }
   ],
   "source": [
    "text = 'test'\n",
    "'t' in text"
   ]
  },
  {
   "cell_type": "code",
   "execution_count": 61,
   "metadata": {},
   "outputs": [
    {
     "name": "stdout",
     "output_type": "stream",
     "text": [
      "[1, 6, 36, 216, 1296, 7776]\n"
     ]
    }
   ],
   "source": [
    "num1 = 5\n",
    "num2 = 6\n",
    "result = [num2 ** i for i in range(num1 + 1)]\n",
    "print(result)\n"
   ]
  },
  {
   "cell_type": "code",
   "execution_count": 63,
   "metadata": {},
   "outputs": [
    {
     "name": "stdout",
     "output_type": "stream",
     "text": [
      "[1, 6, 36, 216, 1296, 7776]\n"
     ]
    }
   ],
   "source": [
    "num1 = 5\n",
    "num2 = 6\n",
    "result = [num2 ** num1 for num1 in range(num1 + 1)]\n",
    "print(result)"
   ]
  },
  {
   "cell_type": "code",
   "execution_count": 62,
   "metadata": {},
   "outputs": [
    {
     "name": "stdout",
     "output_type": "stream",
     "text": [
      "[216, 1296, 7776]\n"
     ]
    }
   ],
   "source": [
    "num2 = 6\n",
    "result = [num2 ** i for i in range(num1 + 1) if i > 2]\n",
    "print(result)"
   ]
  },
  {
   "cell_type": "code",
   "execution_count": 48,
   "metadata": {},
   "outputs": [
    {
     "data": {
      "text/plain": [
       "1650"
      ]
     },
     "execution_count": 48,
     "metadata": {},
     "output_type": "execute_result"
    }
   ],
   "source": [
    "def lcm(n1, n2):\n",
    "    i = max(n1, n2)\n",
    "    while i%n1 or i%n2:\n",
    "        i += 1\n",
    "    return i\n",
    "lcm(55, 150)"
   ]
  },
  {
   "cell_type": "code",
   "execution_count": 58,
   "metadata": {},
   "outputs": [
    {
     "name": "stdout",
     "output_type": "stream",
     "text": [
      "0.0\n"
     ]
    }
   ],
   "source": [
    "import time\n",
    "start = time.time()\n",
    "def lcm(n1, n2):\n",
    "    num = max([x for x in range(1, max(n1, n2) + 1) if n1 % x == 0 and n2 % x == 0])\n",
    "    return int(num * n1/num * n2/num)\n",
    "lcm(55, 150)\n",
    "end  = time.time()\n",
    "print(end-start) "
   ]
  },
  {
   "cell_type": "code",
   "execution_count": 55,
   "metadata": {},
   "outputs": [
    {
     "name": "stdout",
     "output_type": "stream",
     "text": [
      "8.339457750320435\n"
     ]
    }
   ],
   "source": [
    "def lcm(n1, n2):\n",
    "    i = max(n1, n2)\n",
    "    while i%n1 or i%n2:\n",
    "        i += 1\n",
    "    return i\n",
    "lcm(55, 150)\n",
    "end  = time.time()\n",
    "print(end-start) "
   ]
  },
  {
   "cell_type": "code",
   "execution_count": 14,
   "metadata": {},
   "outputs": [
    {
     "name": "stdout",
     "output_type": "stream",
     "text": [
      "[43, 56, 67, 2, 3, 4, 5, 6, 7, 8, 9]\n",
      "[1, 2, 3, 4, 5, 6, 7, 8, 9]\n",
      "[67, 56, 43, 1, 2, 3, 4, 5, 6, 7, 8, 9]\n"
     ]
    }
   ],
   "source": [
    "#country = [['Gana', 'South Africa', 'Ethiopia'], ['Germany' ,'France', 'Nederlands', 'Greece'], 'Turkey', 'New Zealand']\n",
    "#\n",
    "#print(country)\n",
    "#\n",
    "#print(type(country))\n",
    "#string_1 = 'I will be a good DevOps Engineer'\n",
    "#\n",
    "#new_list_1 = list(string_1)  # we created multi element list\n",
    "#print(new_list_1)\n",
    "#print(len(new_list_1))\n",
    "#\n",
    "#\n",
    "#new_list_2 = [string_1]  # this is a single element list\n",
    "#print(new_list_2)\n",
    "#print(len(new_list_2))\n",
    "#list_1 = list()\n",
    "#list_1 = []\n",
    "#\n",
    "#list_1 = list(range(1,11,1))\n",
    "#list_1 = [*range(1,11,1)]\n",
    "#\n",
    "#\n",
    "#print(list_1)\n",
    "#list_1.append('234')\n",
    "#list_1.append('peace')\n",
    "#\n",
    "#print(list_1) \n",
    "#list_1 = [1,2,3,4,5,6]\n",
    "##list_1.extend([10,11])\n",
    "##print(list_1) \n",
    "###Output : [1, 2, 3, 4, 5, 6, 10, 11]\n",
    "#\n",
    "#list_1.append([10,11])\n",
    "#print(empty_list_1) \n",
    "#Output : [1, 2, 3, 4, 5, 6, [10, 11]]\n",
    "# list_1 = [1,2,3,4,5,6,7,8,9]\n",
    "# list_1 += '67'\n",
    "# list_1 += [67]\n",
    "# list_1 += [67,78]\n",
    "# #\n",
    "# print(list_1)\n",
    "#[1, 2, 3, 4, 5, 6, 7, 8, 9, '6', '7', 67, 78]\n",
    "#grocer = [\"apple\", \"banana\", \"cherry\", \"orange\", \"kiwi\", \"melon\", \"mango\"]\n",
    "#grocer.insert(3, 'strawberry')\n",
    "#print(grocer)\n",
    "#Output : ['apple', 'banana', 'cherry', 'strawberry', 'orange', 'kiwi', 'melon', 'mango']\n",
    "#grocer = [\"apple\", \"banana\", \"cherry\", \"orange\", \"kiwi\", \"melon\", \"mango\"]\n",
    "#grocer[1] = 'strawberry'\n",
    "#print(grocer) \n",
    "#Output : 'apple', 'strawberry', 'cherry', 'orange', 'kiwi', 'melon', 'mango']\n",
    "#city = ['New York', 'London', 'Stockholm', 'Istanbul', 'Seoul', 'Sydney', 'Addis Ababa', 'London', 'London']\n",
    "#city.remove('London')\n",
    "#city.remove('London')\n",
    "#city.remove('London')\n",
    "#print(city)  \n",
    "#city = ['Addis Ababa', 'Istanbul', 'New York', 'Seoul', 'Stockholm', 'Sydney']\n",
    "#print(len(city))\n",
    "#my_list = [1, 3, 5, 7]\n",
    "#print(my_list * 3)\n",
    "#print(len(my_list*3))\n",
    "#grocer = [\"apple\", \"banana\", \"cherry\", \"orange\", \"kiwi\", \"melon\", \"mango\"]\n",
    "#grocer_1 = grocer[5]\n",
    "#print(grocer_1)\n",
    "#\n",
    "#grocer_2 = [\"apple\", \"banana\", [\"cherry\", [\"orange\", \"kiwi\"], \"melon\", \"mango\"]]\n",
    "#grocer_3 = print(grocer_2[1])\n",
    "#print(grocer_3)\n",
    "#grocer = [\"apple\", \"banana\", \"cherry\", \"orange\", \"kiwi\", \"melon\", \"mango\"]\n",
    "#grocer1 = grocer.index('orange')  # adı geçen elemanın hangi indexte yer aldığını söyler\n",
    "#print(grocer1)\n",
    "#output : 3\n",
    "#num = [102, -3, 45, 67, 78, -54, 98, -1222, 456, -34, 0]\n",
    "#\n",
    "#num.sort()\n",
    "#\n",
    "#print(num)\n",
    "#list_1 = ['one', 'four', 'nine']\n",
    "#list_2 = ['*.','@','False']\n",
    "#list_3 = [True, False]\n",
    "#list_4 = [[3], [44],[-12]]\n",
    "#list_5 = [[1,3],[44,0],[-12,1]]\n",
    "#list_5.sort()\n",
    "#print(list_5)\n",
    "list_1 = [1,2,3,4,5,6,7,8,9]\n",
    "list_2 = [43, 56, 67]\n",
    "list_1[0:1] = list_2\n",
    "print(list_1)\n",
    "list_1 = [1,2,3,4,5,6,7,8,9]\n",
    "list_2 = [43, 56, 67]\n",
    "# list_1.insert(0, list_2)\n",
    "print(list_1)\n",
    "for z in list_2:\n",
    "    list_1.insert(0, z)\n",
    "print(list_1)\n",
    "#Output : [43, 56, 67, 3, 4, 5, 6, 7, 8, 9] \n",
    "# [0:2], [0:2], [0:5]versiyonlarında ne olduğunu göster\n",
    "#list_1 = [1,2,3,4,5,6,7,8,9]\n",
    "#del list_1[0:6]\n",
    "#print(list_1)\n",
    "#list_1 = [1,2,3,4,5,6,7,8,9]\n",
    "#del list_1[0:9:2]\n",
    "#print(list_1)\n",
    "#list_1.clear()\n",
    "#print(list_1)\n",
    "#list_1 = [1,2,3,4,5,6,7,8,9]\n",
    "#del list_1[:]\n",
    "#print(list_1)\n",
    "#list_1 = [1,2,3,4,5,6,7,8,9]\n",
    "#list_1 += [67]\n",
    "#\n",
    "#print(list_1)\n",
    "#list1 = [ 1, 2, 3, 4, 5, 6 ] \n",
    "  \n",
    "#print(list1.pop())\n",
    "#print(list1)\n",
    "#list2 = [1, 2, 3, ('cat', 'bat'), 4] \n",
    "# Pop last three element \n",
    "#print(list2.pop()) \n",
    "##print(list2)\n",
    "#print(list2.pop()) \n",
    "##print(list2)\n",
    "#print(list2.pop())\n",
    "##print(list2)\n",
    "## Print list \n",
    "#print(\"New List after pop : \", list2, \"\\n\") \n",
    "#list_1 = [1,2,3,4,5,6,7,8,9,'istanbul']\n",
    "#list_1.reverse()\n",
    "#print(list_1)\n",
    "#\n",
    "#['istanbul', 9, 8, 7, 6, 5, 4, 3, 2, 1]\n",
    "\n",
    "#my_list = [-45, 6,3,9,0,-23,-34,15]\n",
    "#my_list.sort()\n",
    "#print(my_list)\n",
    "#my_list.sort(reverse=True)\n",
    "#print(my_list)\n",
    "#listem = [x**2 for x in (1,2,3,4,5)]\n",
    "#print(listem)\n"
   ]
  },
  {
   "cell_type": "code",
   "execution_count": 3,
   "metadata": {},
   "outputs": [
    {
     "name": "stdout",
     "output_type": "stream",
     "text": [
      "[5, 4, 3, 2, 1]\n"
     ]
    }
   ],
   "source": [
    "liste = [1, 2, 3, 4, 5]\n",
    "liste.sort(reverse=True) # makes the list reverse\n",
    "liste.reverse()  # makes the list reverse\n",
    "print(liste[::-1])  # makes the list reverse and it is printable :)"
   ]
  },
  {
   "cell_type": "code",
   "execution_count": 4,
   "metadata": {},
   "outputs": [
    {
     "data": {
      "text/plain": [
       "'HiByeHiBye'"
      ]
     },
     "execution_count": 4,
     "metadata": {},
     "output_type": "execute_result"
    }
   ],
   "source": [
    "def make_abba(a, b):\n",
    "    return a + b + a + b\n",
    "\n",
    "make_abba('Hi', 'Bye')"
   ]
  },
  {
   "cell_type": "code",
   "execution_count": 15,
   "metadata": {},
   "outputs": [
    {
     "ename": "TypeError",
     "evalue": "'str' object is not callable",
     "output_type": "error",
     "traceback": [
      "\u001b[1;31m---------------------------------------------------------------------------\u001b[0m",
      "\u001b[1;31mTypeError\u001b[0m                                 Traceback (most recent call last)",
      "\u001b[1;32m<ipython-input-15-7bb88b05c9f9>\u001b[0m in \u001b[0;36m<module>\u001b[1;34m\u001b[0m\n\u001b[0;32m      5\u001b[0m         \u001b[0mb\u001b[0m\u001b[1;33m.\u001b[0m\u001b[0mappend\u001b[0m\u001b[1;33m(\u001b[0m\u001b[0mch\u001b[0m \u001b[1;33m*\u001b[0m \u001b[1;36m2\u001b[0m\u001b[1;33m)\u001b[0m\u001b[1;33m\u001b[0m\u001b[1;33m\u001b[0m\u001b[0m\n\u001b[0;32m      6\u001b[0m     \u001b[1;32mreturn\u001b[0m \u001b[0mstr\u001b[0m\u001b[1;33m(\u001b[0m\u001b[0mb\u001b[0m\u001b[1;33m)\u001b[0m\u001b[1;33m\u001b[0m\u001b[1;33m\u001b[0m\u001b[0m\n\u001b[1;32m----> 7\u001b[1;33m \u001b[0mdouble_char\u001b[0m\u001b[1;33m(\u001b[0m\u001b[1;34m'sdsad'\u001b[0m\u001b[1;33m)\u001b[0m\u001b[1;33m\u001b[0m\u001b[1;33m\u001b[0m\u001b[0m\n\u001b[0m",
      "\u001b[1;32m<ipython-input-15-7bb88b05c9f9>\u001b[0m in \u001b[0;36mdouble_char\u001b[1;34m(str)\u001b[0m\n\u001b[0;32m      4\u001b[0m     \u001b[1;32mfor\u001b[0m \u001b[0mch\u001b[0m \u001b[1;32min\u001b[0m \u001b[0ma\u001b[0m\u001b[1;33m:\u001b[0m\u001b[1;33m\u001b[0m\u001b[1;33m\u001b[0m\u001b[0m\n\u001b[0;32m      5\u001b[0m         \u001b[0mb\u001b[0m\u001b[1;33m.\u001b[0m\u001b[0mappend\u001b[0m\u001b[1;33m(\u001b[0m\u001b[0mch\u001b[0m \u001b[1;33m*\u001b[0m \u001b[1;36m2\u001b[0m\u001b[1;33m)\u001b[0m\u001b[1;33m\u001b[0m\u001b[1;33m\u001b[0m\u001b[0m\n\u001b[1;32m----> 6\u001b[1;33m     \u001b[1;32mreturn\u001b[0m \u001b[0mstr\u001b[0m\u001b[1;33m(\u001b[0m\u001b[0mb\u001b[0m\u001b[1;33m)\u001b[0m\u001b[1;33m\u001b[0m\u001b[1;33m\u001b[0m\u001b[0m\n\u001b[0m\u001b[0;32m      7\u001b[0m \u001b[0mdouble_char\u001b[0m\u001b[1;33m(\u001b[0m\u001b[1;34m'sdsad'\u001b[0m\u001b[1;33m)\u001b[0m\u001b[1;33m\u001b[0m\u001b[1;33m\u001b[0m\u001b[0m\n",
      "\u001b[1;31mTypeError\u001b[0m: 'str' object is not callable"
     ]
    }
   ],
   "source": [
    "def double_char(str):\n",
    "    a = list(\n",
    "    b = []\n",
    "    for ch in a:\n",
    "        b.append(ch * 2)\n",
    "    return str(b)\n",
    "double_char('sdsad')"
   ]
  },
  {
   "cell_type": "code",
   "execution_count": 17,
   "metadata": {},
   "outputs": [
    {
     "data": {
      "text/plain": [
       "'tsettest'"
      ]
     },
     "execution_count": 17,
     "metadata": {},
     "output_type": "execute_result"
    }
   ],
   "source": [
    "def double_char(str):\n",
    "    a = ''\n",
    "    for ch in str:\n",
    "        a = a.join(ch * 2)\n",
    "    return a\n",
    "\n",
    "double_char('test')"
   ]
  },
  {
   "cell_type": "code",
   "execution_count": 43,
   "metadata": {},
   "outputs": [
    {
     "name": "stdout",
     "output_type": "stream",
     "text": [
      "['t', 'a', 'l', 'h', 'a', 's', 'e', 'r', 'd', 'a', 'r']\n"
     ]
    }
   ],
   "source": [
    "str1 = list('talha')\n",
    "str2 = list('serdar')\n",
    "print(str1 + str2)"
   ]
  },
  {
   "cell_type": "code",
   "execution_count": 46,
   "metadata": {},
   "outputs": [
    {
     "name": "stdout",
     "output_type": "stream",
     "text": [
      "['t', 'a', 'l', 'h', 'a', 't', 'a', 'l', 'h', 'a', 't', 'a', 'l', 'h', 'a']\n",
      "serdarserdarserdar\n"
     ]
    }
   ],
   "source": [
    "str1 = list('talha')\n",
    "str2 = 'serdar'\n",
    "print(str1 * 3)\n",
    "print(str2 * 3)"
   ]
  },
  {
   "cell_type": "code",
   "execution_count": 53,
   "metadata": {},
   "outputs": [
    {
     "name": "stdout",
     "output_type": "stream",
     "text": [
      "I have 8 jj and 5.0 brothers\n"
     ]
    }
   ],
   "source": [
    "phrase = 'I have %s %s and %.1f brothers' % (8, \"jj\", 5)  \n",
    "print (phrase)"
   ]
  },
  {
   "cell_type": "code",
   "execution_count": 14,
   "metadata": {},
   "outputs": [
    {
     "name": "stdout",
     "output_type": "stream",
     "text": [
      "{1: 'One', 2: 'Two', 3: 'Three'}\n",
      "{1: 'One', 2: 'Two', 3: 'Three'}\n",
      "{1: 'Bir', 2: 'Two', 3: 'Three'}\n"
     ]
    }
   ],
   "source": [
    "my_dic = {1:'One', 2:'Two', 3:'Three'}\n",
    "print(str(my_dic))\n",
    "print(my_dic)\n",
    "my_dic[1] = 'Bir'\n",
    "print(my_dic)"
   ]
  },
  {
   "cell_type": "code",
   "execution_count": 12,
   "metadata": {},
   "outputs": [
    {
     "name": "stdout",
     "output_type": "stream",
     "text": [
      "{1: {'name': 'Adam', 'surname': 'Smith'}, 2: {'name': 'John M', 'surname': 'Keynes'}, 3: {'name': 'new_family', 'surname': 'new_member'}}\n"
     ]
    },
    {
     "data": {
      "text/plain": [
       "[1, 2, 3]"
      ]
     },
     "execution_count": 12,
     "metadata": {},
     "output_type": "execute_result"
    }
   ],
   "source": [
    "my_family = {1: {'name':'Adam','surname':'Smith'},2: {'name':'John M','surname':'Keynes'}}\n",
    "my_family.update({3: {'name':'new_family', 'surname':'new_member'}})\n",
    "print(my_family)\n",
    "my_list = list(my_family)\n",
    "my_list"
   ]
  },
  {
   "cell_type": "code",
   "execution_count": null,
   "metadata": {},
   "outputs": [],
   "source": []
  },
  {
   "cell_type": "code",
   "execution_count": null,
   "metadata": {},
   "outputs": [],
   "source": []
  }
 ],
 "metadata": {
  "kernelspec": {
   "display_name": "Python 3",
   "language": "python",
   "name": "python3"
  },
  "language_info": {
   "codemirror_mode": {
    "name": "ipython",
    "version": 3
   },
   "file_extension": ".py",
   "mimetype": "text/x-python",
   "name": "python",
   "nbconvert_exporter": "python",
   "pygments_lexer": "ipython3",
   "version": "3.7.6"
  }
 },
 "nbformat": 4,
 "nbformat_minor": 4
}

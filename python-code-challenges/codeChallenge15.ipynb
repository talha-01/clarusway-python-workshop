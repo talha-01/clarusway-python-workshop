{
 "cells": [
  {
   "cell_type": "code",
   "execution_count": 18,
   "metadata": {},
   "outputs": [
    {
     "name": "stdout",
     "output_type": "stream",
     "text": [
      "enter a number : 15\n",
      "Positive\n"
     ]
    }
   ],
   "source": [
    "num = int(input('enter a number : '))\n",
    "if num < 0:\n",
    "     print('Negative')\n",
    "elif num == 0:\n",
    "     print('Zero')\n",
    "else:\n",
    "     print('Positive')"
   ]
  },
  {
   "cell_type": "code",
   "execution_count": 21,
   "metadata": {},
   "outputs": [
    {
     "name": "stdout",
     "output_type": "stream",
     "text": [
      "enter a number : -8\n"
     ]
    },
    {
     "data": {
      "text/plain": [
       "'Negative'"
      ]
     },
     "execution_count": 21,
     "metadata": {},
     "output_type": "execute_result"
    }
   ],
   "source": [
    "num = int(input('enter a number : '))\n",
    "'Negative' if num < 0 else 'Zero' if num == 0 else 'Positive'\n"
   ]
  },
  {
   "cell_type": "code",
   "execution_count": 12,
   "metadata": {},
   "outputs": [
    {
     "data": {
      "text/plain": [
       "False"
      ]
     },
     "execution_count": 12,
     "metadata": {},
     "output_type": "execute_result"
    }
   ],
   "source": [
    "def is_vowel(char):\n",
    "    if char in ['e', 'a', 'i', 'o', 'u']:\n",
    "        return True\n",
    "    else: return False\n",
    "is_vowel('f')"
   ]
  },
  {
   "cell_type": "code",
   "execution_count": 17,
   "metadata": {},
   "outputs": [
    {
     "data": {
      "text/plain": [
       "'eeednm'"
      ]
     },
     "execution_count": 17,
     "metadata": {},
     "output_type": "execute_result"
    }
   ],
   "source": [
    "def split(txt):\n",
    "    def is_vowel(char):\n",
    "        if char in ['e', 'a', 'i', 'o', 'u']:\n",
    "            return True\n",
    "        else: return False\n",
    "    txt_new = sorted(txt, reverse = True, key = is_vowel)\n",
    "    return ''.join(txt_new)\n",
    "\n",
    "split('deneme')\n",
    "    "
   ]
  },
  {
   "cell_type": "code",
   "execution_count": 5,
   "metadata": {},
   "outputs": [
    {
     "name": "stdout",
     "output_type": "stream",
     "text": [
      "['a', 'a', 'e'] ['M', 'b', 'h', 'r']\n"
     ]
    },
    {
     "data": {
      "text/plain": [
       "'Maaebaaehaaer'"
      ]
     },
     "execution_count": 5,
     "metadata": {},
     "output_type": "execute_result"
    }
   ],
   "source": [
    "def split(txt):\n",
    "    vowels = []\n",
    "    others = []\n",
    "    for char in txt:\n",
    "        if char in ['e', 'a', 'i', 'o', 'u']:\n",
    "            vowels.append(char)\n",
    "        else:\n",
    "            others.append(char)\n",
    "    vowels.sort()\n",
    "    others.sort()\n",
    "    print(vowels, others)\n",
    "    a = ''.join(vowels)\n",
    "    a = a.join(others)\n",
    "    return a\n",
    "\n",
    "split('Merhaba')"
   ]
  },
  {
   "cell_type": "code",
   "execution_count": 7,
   "metadata": {},
   "outputs": [
    {
     "data": {
      "text/plain": [
       "'aabehmr'"
      ]
     },
     "execution_count": 7,
     "metadata": {},
     "output_type": "execute_result"
    }
   ],
   "source": [
    "a = sorted('merhaba')\n",
    "''.join(a)"
   ]
  },
  {
   "cell_type": "code",
   "execution_count": 2,
   "metadata": {},
   "outputs": [
    {
     "name": "stdout",
     "output_type": "stream",
     "text": [
      "Enter first number: 15\n",
      "Enter second number: 12\n",
      "The larger number is 15.0\n"
     ]
    }
   ],
   "source": [
    "num1 = float(input('Enter first number: '))\n",
    "num2 = float(input('Enter second number: '))\n",
    "if num1 > num2:\n",
    "    larger = num1\n",
    "else:`\n",
    "    larger = num2\n",
    "print('The larger number is', larger)"
   ]
  },
  {
   "cell_type": "code",
   "execution_count": 6,
   "metadata": {},
   "outputs": [
    {
     "name": "stdout",
     "output_type": "stream",
     "text": [
      "['1', '2', '1', '1']\n"
     ]
    }
   ],
   "source": [
    "a = ['1', '3', '4', '4', '5', ('1', '2', '1 ', ' 1')]\n",
    "b = list(a.pop())\n",
    "c = []\n",
    "for i in b:\n",
    "    c.append(i.strip())\n",
    "print(c)\n",
    "# a.extend(b)\n",
    "# print(set(a))"
   ]
  },
  {
   "cell_type": "code",
   "execution_count": 5,
   "metadata": {},
   "outputs": [
    {
     "name": "stdout",
     "output_type": "stream",
     "text": [
      "Plese enter a decimal number _ 2.39999999\n",
      "2.39\n"
     ]
    }
   ],
   "source": [
    "number = input('Plese enter a decimal number _ ')\n",
    "index = number.find('.')\n",
    "print(f'{float(number[:index+3])}')"
   ]
  },
  {
   "cell_type": "code",
   "execution_count": 6,
   "metadata": {},
   "outputs": [
    {
     "data": {
      "text/plain": [
       "3"
      ]
     },
     "execution_count": 6,
     "metadata": {},
     "output_type": "execute_result"
    }
   ],
   "source": [
    "a = 5\n",
    "b = 3\n",
    "a, b = b, a\n",
    "a"
   ]
  },
  {
   "cell_type": "code",
   "execution_count": 17,
   "metadata": {},
   "outputs": [
    {
     "name": "stdout",
     "output_type": "stream",
     "text": [
      "['m', '.', '.', '.', '.', '.', '.', '.', '.', '.']\n",
      "['.', '.', '.', '.', '.', '.', '.', '.', '.', '.']\n",
      "['.', '.', '.', '.', '.', '.', '.', '.', '.', 't']\n",
      "['.', '.', '.', '.', '.', '.', '.', '.', '.', '.']\n",
      "['.', '.', '.', '.', '.', '.', '.', '.', 't', '.']\n",
      "['.', '.', '.', '.', '.', '.', '.', '.', 't', '.']\n",
      "['.', '.', '.', '.', '.', '.', '.', 't', 't', '.']\n",
      "['.', '.', '.', '.', '.', '.', '.', 't', '.', '.']\n",
      "['.', '.', '.', '.', '.', '.', '.', 't', 't', '.']\n",
      "['.', '.', '.', '.', '.', '.', '.', '.', 't', 'h']\n"
     ]
    }
   ],
   "source": [
    "world = 'm,.,.,.,.,.,.,.,.,.,.,.,.,.,.,.,.,.,.,.,.,.,.,.,.,.,.,.,.,t,.,.,.,.,.,.,.,.,.,.,.,.,.,.,.,.,.,.,t,.,.,.,.,.,.,.,.,.,t,.,.,.,.,.,.,.,.,t,t,.,.,.,.,.,.,.,.,t,.,.,.,.,.,.,.,.,.,t,t,.,.,.,.,.,.,.,.,.,t,h'.split(',')\n",
    "height = 10\n",
    "length = 10\n",
    "w = {}\n",
    "i = 0\n",
    "for x in range(height):\n",
    "    row = []\n",
    "    for y in range(length):\n",
    "        key = f'w{x}{y}'\n",
    "        row.append(world[i])\n",
    "        i += 1\n",
    "    w[key]=row\n",
    "        \n",
    "for x, y in w.items():\n",
    "    print(y)\n",
    "                \n",
    "    "
   ]
  },
  {
   "cell_type": "code",
   "execution_count": 184,
   "metadata": {},
   "outputs": [
    {
     "data": {
      "text/plain": [
       "489"
      ]
     },
     "execution_count": 184,
     "metadata": {},
     "output_type": "execute_result"
    }
   ],
   "source": [
    "def digits(number):\n",
    "    a = 0\n",
    "    for i in range(1, number):\n",
    "        a += len(str(i))\n",
    "    return a\n",
    "\n",
    "digits(200)\n",
    "    "
   ]
  },
  {
   "cell_type": "code",
   "execution_count": 195,
   "metadata": {},
   "outputs": [
    {
     "data": {
      "text/plain": [
       "0"
      ]
     },
     "execution_count": 195,
     "metadata": {},
     "output_type": "execute_result"
    }
   ],
   "source": [
    "def digits(number):\n",
    "    a = str(number)\n",
    "    if a == '1':\n",
    "        return 0\n",
    "    index = -1\n",
    "    for x in range(len(a)):\n",
    "        if x == 0:\n",
    "            var_1 = (int(a[index:])) * (abs(index))\n",
    "            var_2 = 0\n",
    "            index -= 1\n",
    "        else:\n",
    "            var_1 = (int(a[index:]) - 10**(x)) * (abs(index))\n",
    "            var_2 += int('9' + ('0' * (x - 1))) * (x)             \n",
    "            index -= 1\n",
    "    return var_1 + var_2\n",
    "\n",
    "digits(1)"
   ]
  },
  {
   "cell_type": "code",
   "execution_count": 132,
   "metadata": {},
   "outputs": [
    {
     "name": "stdout",
     "output_type": "stream",
     "text": [
      "0 1 1\n",
      "0 10 2\n",
      "200 100 3\n"
     ]
    }
   ],
   "source": [
    "def digits(number):\n",
    "    l = len(str(number))\n",
    "    return sum([9*(10**x)*(x+1) for x in range(l-1)])+(number-10**(l-1))*l"
   ]
  },
  {
   "cell_type": "code",
   "execution_count": 139,
   "metadata": {},
   "outputs": [
    {
     "data": {
      "text/plain": [
       "''"
      ]
     },
     "execution_count": 139,
     "metadata": {},
     "output_type": "execute_result"
    }
   ],
   "source": [
    "'k'*0"
   ]
  }
 ],
 "metadata": {
  "kernelspec": {
   "display_name": "Python 3",
   "language": "python",
   "name": "python3"
  },
  "language_info": {
   "codemirror_mode": {
    "name": "ipython",
    "version": 3
   },
   "file_extension": ".py",
   "mimetype": "text/x-python",
   "name": "python",
   "nbconvert_exporter": "python",
   "pygments_lexer": "ipython3",
   "version": "3.7.6"
  }
 },
 "nbformat": 4,
 "nbformat_minor": 4
}

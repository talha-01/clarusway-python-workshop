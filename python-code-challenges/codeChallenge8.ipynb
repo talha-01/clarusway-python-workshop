{
 "cells": [
  {
   "cell_type": "code",
   "execution_count": 37,
   "metadata": {},
   "outputs": [
    {
     "data": {
      "text/plain": [
       "[2, 47, 94811]"
      ]
     },
     "execution_count": 37,
     "metadata": {},
     "output_type": "execute_result"
    }
   ],
   "source": [
    "def prime_factors(num):\n",
    "    def prime(nu):\n",
    "        prime = True\n",
    "        for i in range(2, nu):\n",
    "            if nu % i == 0:\n",
    "                prime = False\n",
    "        return prime\n",
    "    result = []\n",
    "    for n in range(2, num):\n",
    "        switch = True\n",
    "        while switch:\n",
    "            switch = False\n",
    "            if num % n == 0 and prime(n):\n",
    "                result.append(n)\n",
    "                num /= n\n",
    "                switch = True\n",
    "    return result\n",
    "            \n",
    "    \n",
    "prime_factors(8912234)"
   ]
  },
  {
   "cell_type": "code",
   "execution_count": 24,
   "metadata": {},
   "outputs": [
    {
     "data": {
      "text/plain": [
       "True"
      ]
     },
     "execution_count": 24,
     "metadata": {},
     "output_type": "execute_result"
    }
   ],
   "source": [
    "def prime(num):\n",
    "    prime = True\n",
    "    for i in range(2, num):\n",
    "        if num % i == 0:\n",
    "            prime = False\n",
    "    return prime\n",
    "prime(2)"
   ]
  },
  {
   "cell_type": "code",
   "execution_count": 9,
   "metadata": {},
   "outputs": [
    {
     "name": "stdout",
     "output_type": "stream",
     "text": [
      "5\n",
      "1\n",
      "121\n",
      "12321\n",
      "1234321\n",
      "123454321\n"
     ]
    }
   ],
   "source": [
    "for i in range(1,int(input())+1):\n",
    "    print(''.join(str(x) for x in range(1,i+1)) + ''.join(str(x) for x in range(1,i)[::-1]))\n",
    "    \n",
    "    "
   ]
  },
  {
   "cell_type": "code",
   "execution_count": 14,
   "metadata": {},
   "outputs": [
    {
     "data": {
      "text/plain": [
       "'foobar0010'"
      ]
     },
     "execution_count": 14,
     "metadata": {},
     "output_type": "execute_result"
    }
   ],
   "source": [
    "def increment_string(txt):\n",
    "    if not txt[-1].isdigit(): return txt + '1'\n",
    "    else:\n",
    "        num = [x for x in txt if x.isdigit()]\n",
    "        a = str(int(''.join(num)) + 1)\n",
    "        return txt[:-len(a)] + a\n",
    "    \n",
    "increment_string(\"foobar0009\")"
   ]
  },
  {
   "cell_type": "code",
   "execution_count": null,
   "metadata": {},
   "outputs": [],
   "source": []
  }
 ],
 "metadata": {
  "kernelspec": {
   "display_name": "Python 3",
   "language": "python",
   "name": "python3"
  },
  "language_info": {
   "codemirror_mode": {
    "name": "ipython",
    "version": 3
   },
   "file_extension": ".py",
   "mimetype": "text/x-python",
   "name": "python",
   "nbconvert_exporter": "python",
   "pygments_lexer": "ipython3",
   "version": "3.7.6"
  }
 },
 "nbformat": 4,
 "nbformat_minor": 4
}

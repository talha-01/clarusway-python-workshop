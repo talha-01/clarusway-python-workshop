{
 "cells": [
  {
   "cell_type": "code",
   "execution_count": 2,
   "metadata": {},
   "outputs": [
    {
     "data": {
      "text/plain": [
       "False"
      ]
     },
     "execution_count": 2,
     "metadata": {},
     "output_type": "execute_result"
    }
   ],
   "source": [
    "def is_valid(bracket):\n",
    "    bracket, switch = list(bracket), True\n",
    "    matches = {')': '(', ']': '[', '}': '{'}\n",
    "    while switch:\n",
    "        switch = False\n",
    "        for i, char in enumerate(bracket):\n",
    "            if char in matches.keys():\n",
    "                if bracket[i-1] == matches[char]:\n",
    "                    del bracket[i]\n",
    "                    del bracket[i-1]\n",
    "                    switch = True\n",
    "    return not bracket\n",
    "\n",
    "is_valid('([)]')"
   ]
  },
  {
   "cell_type": "code",
   "execution_count": 40,
   "metadata": {},
   "outputs": [
    {
     "data": {
      "text/plain": [
       "'node'"
      ]
     },
     "execution_count": 40,
     "metadata": {},
     "output_type": "execute_result"
    }
   ],
   "source": [
    "def binary_to_text(n):\n",
    "    asc, i = [], 0\n",
    "    for j in range(1, len(n) +1):\n",
    "        if j % 8 == 0:\n",
    "            asc.append(n[i:j])\n",
    "            i = j\n",
    "    return ''.join(chr(ch) for ch in map(lambda x:int(x, 2), asc))\n",
    "#     print([chr(s) for s in a])\n",
    "    \n",
    "binary_to_text(\"01101110011011110110010001100101\")\n",
    "    "
   ]
  },
  {
   "cell_type": "code",
   "execution_count": 26,
   "metadata": {},
   "outputs": [
    {
     "data": {
      "text/plain": [
       "16"
      ]
     },
     "execution_count": 26,
     "metadata": {},
     "output_type": "execute_result"
    }
   ],
   "source": [
    "def binary_to_text(n):\n",
    "\treturn ''.join(chr(int(n[i:i+8], 2)) for i in range(0, len(n), 8))"
   ]
  },
  {
   "cell_type": "code",
   "execution_count": 46,
   "metadata": {},
   "outputs": [
    {
     "data": {
      "text/plain": [
       "'first'"
      ]
     },
     "execution_count": 46,
     "metadata": {},
     "output_type": "execute_result"
    }
   ],
   "source": [
    "def are_true(a, b):\n",
    "    return 'both' if a and b else 'first' if a else 'second' if b else 'neither'\n",
    "#     return 'neither' if not a and b else 'first' if b else 'both'\n",
    " \n",
    "\n",
    "are_true(True, False)"
   ]
  },
  {
   "cell_type": "code",
   "execution_count": 49,
   "metadata": {},
   "outputs": [
    {
     "data": {
      "text/plain": [
       "' is a testThis'"
      ]
     },
     "execution_count": 49,
     "metadata": {},
     "output_type": "execute_result"
    }
   ],
   "source": [
    "def shift_letters(txt, n):\n",
    "    ls = sl = ''\n",
    "    for i, c in enumerate(txt):\n",
    "        if i < n: ls += c\n",
    "        else: sl += c\n",
    "    return sl + ls\n",
    "        \n",
    "    \n",
    "    \n",
    "    \n",
    "    \n",
    "shift_letters('This is a test', 4)\n",
    "    "
   ]
  },
  {
   "cell_type": "code",
   "execution_count": null,
   "metadata": {},
   "outputs": [],
   "source": []
  },
  {
   "cell_type": "code",
   "execution_count": null,
   "metadata": {},
   "outputs": [],
   "source": []
  },
  {
   "cell_type": "code",
   "execution_count": 12,
   "metadata": {},
   "outputs": [
    {
     "data": {
      "text/plain": [
       "[0.33, 0.981, 0.5644, 1.0]"
      ]
     },
     "execution_count": 12,
     "metadata": {},
     "output_type": "execute_result"
    }
   ],
   "source": [
    "def convert_to_decimal(perc):\n",
    "    return list(map(lambda x: float(x[:-1]) * 0.01, perc))\n",
    "\n",
    "convert_to_decimal([\"33%\", \"98.1%\", \"56.44%\", \"100%\"])"
   ]
  },
  {
   "cell_type": "code",
   "execution_count": 18,
   "metadata": {},
   "outputs": [
    {
     "data": {
      "text/plain": [
       "'The film starts at midnight.'"
      ]
     },
     "execution_count": 18,
     "metadata": {},
     "output_type": "execute_result"
    }
   ],
   "source": [
    "def correct_spacing(sentence):\n",
    "    return ' '.join(sentence.split())\n",
    "    \n",
    "correct_spacing(\"The film   starts       at      midnight. \")"
   ]
  },
  {
   "cell_type": "code",
   "execution_count": 20,
   "metadata": {},
   "outputs": [
    {
     "data": {
      "text/plain": [
       "[1, 1, -1]"
      ]
     },
     "execution_count": 20,
     "metadata": {},
     "output_type": "execute_result"
    }
   ],
   "source": [
    "def correct_stream(user, correct):\n",
    "    return [1 if x == y else -1 for x, y in zip(user, correct)]\n",
    "def correct_stream(user, correct):\n",
    "\tjudgement = [1 if w in correct else -1 for w in user]\n",
    "\treturn judgement\n",
    "def correct_stream(user, correct):\n",
    "\treturn [1 if user[i] == correct[i] else -1 for i in range(len(user))]\n",
    "correct_stream(\n",
    "  [\"it\", \"is\", \"find\"],\n",
    "  [\"it\", \"is\", \"fine\"]\n",
    ")"
   ]
  },
  {
   "cell_type": "code",
   "execution_count": 28,
   "metadata": {},
   "outputs": [
    {
     "data": {
      "text/plain": [
       "[9, 2, 16]"
      ]
     },
     "execution_count": 28,
     "metadata": {},
     "output_type": "execute_result"
    }
   ],
   "source": [
    "def return_only_integer(lst):\n",
    "    def is_int(num):\n",
    "        return True if type(num) == int else False\n",
    "    return list(filter(is_int, lst))\n",
    "    \n",
    "return_only_integer([9, 2, \"space\", \"car\", \"lion\", 16])\n",
    "    "
   ]
  },
  {
   "cell_type": "code",
   "execution_count": 43,
   "metadata": {},
   "outputs": [
    {
     "data": {
      "text/plain": [
       "' hv nvr sn  thn prsn drnkng Dt Ck.'"
      ]
     },
     "execution_count": 43,
     "metadata": {},
     "output_type": "execute_result"
    }
   ],
   "source": [
    "def remove_vowels(sentence):\n",
    "    new = ''\n",
    "    for v in sentence:\n",
    "        if v.lower() not in 'aeuio':\n",
    "            new += v\n",
    "    return new\n",
    "\n",
    "def remove_vowels(txt):\n",
    "    return ''.join(char for char in txt if not char in \"aeiouAEIOU\")\n",
    "\n",
    "remove_vowels(\"I have never seen a thin person drinking Diet Coke.\")"
   ]
  },
  {
   "cell_type": "code",
   "execution_count": 34,
   "metadata": {},
   "outputs": [
    {
     "data": {
      "text/plain": [
       "5"
      ]
     },
     "execution_count": 34,
     "metadata": {},
     "output_type": "execute_result"
    }
   ],
   "source": [
    "def count_step(N):\n",
    "    if N==0 or N==1:\n",
    "        return 1\n",
    "    else:\n",
    "        lst = [0, 1]\n",
    "        for x in range(N):\n",
    "            lst.append(lst[-1] + lst[-2])\n",
    "    return lst[-1]\n",
    "    \n",
    "count_step(4)"
   ]
  },
  {
   "cell_type": "code",
   "execution_count": 1,
   "metadata": {},
   "outputs": [
    {
     "name": "stdout",
     "output_type": "stream",
     "text": [
      "[1, 2]\n",
      "1, 2, 3, 5, 8, 13, 21, 34, 55, 89\n"
     ]
    }
   ],
   "source": [
    "x = 100\n",
    "liste = []\n",
    "liste.append(1)\n",
    "liste.append(2)\n",
    "print(liste)\n",
    "while True:\n",
    "    liste.append(liste[-1] + liste[-2])\n",
    "    if liste[-1] > 100:\n",
    "        liste.remove(liste[-1])\n",
    "        break\n",
    "        \n",
    "for i in liste[0:len(liste)-1]:\n",
    "    print(i, end = ', ')\n",
    "print(liste[-1])"
   ]
  },
  {
   "cell_type": "code",
   "execution_count": 83,
   "metadata": {},
   "outputs": [
    {
     "name": "stdout",
     "output_type": "stream",
     "text": [
      "[1]\n",
      "[1, 1]\n",
      "[1, 1, 1]\n",
      "[1, 1, 1, 2]\n",
      "[1, 1, 1, 2, 3]\n",
      "[1, 1, 1, 2, 3, 5]\n",
      "[1, 1, 1, 2, 3, 5, 8]\n",
      "[1, 1, 1, 2, 3, 5, 8, 12]\n",
      "[1, 1, 1, 2, 3, 5, 8, 12, 19]\n",
      "[1, 1, 1, 2, 3, 5, 8, 12, 19, 30]\n",
      "[1, 1, 1, 2, 3, 5, 8, 12, 19, 30, 47]\n",
      "[1, 1, 1, 2, 3, 5, 8, 12, 19, 30, 47, 74]\n",
      "[1, 1, 1, 2, 3, 5, 8, 12, 19, 30, 47, 74, 116]\n",
      "[1, 1, 1, 2, 3, 5, 8, 12, 19, 30, 47, 74, 116, 182]\n",
      "[1, 1, 1, 2, 3, 5, 8, 12, 19, 30, 47, 74, 116, 182, 286]\n",
      "[1, 1, 1, 2, 3, 5, 8, 12, 19, 30, 47, 74, 116, 182, 286, 449]\n"
     ]
    }
   ],
   "source": [
    "def count_step_n(N):\n",
    "    lst = []\n",
    "    for x in range(N+1):\n",
    "        if x < 3:\n",
    "            lst.append(1)\n",
    "        elif x < 5:\n",
    "            lst.append(lst[-1] + lst[-3])\n",
    "        else:\n",
    "            lst.append(lst[-1] + lst[-3] + lst[-5])\n",
    "        print(lst)\n",
    "\n",
    "count_step_n(15)"
   ]
  },
  {
   "cell_type": "code",
   "execution_count": 113,
   "metadata": {},
   "outputs": [
    {
     "data": {
      "text/plain": [
       "3"
      ]
     },
     "execution_count": 113,
     "metadata": {},
     "output_type": "execute_result"
    }
   ],
   "source": [
    "def count_step_n(N):\n",
    "    lst = [0, 1, 2]\n",
    "    nums = [1, 3, 5]\n",
    "    if N < 3: return 1\n",
    "    else:\n",
    "        for x in range(3, N+1):\n",
    "            total = 0\n",
    "            for n in nums:\n",
    "                if n <= N:\n",
    "                    total += lst[-n]\n",
    "#                     print(x, n, total)\n",
    "            lst.append(total)\n",
    "#         print(lst)\n",
    "    return lst[-1]\n",
    "\n",
    "\n",
    "count_step_n(4)"
   ]
  },
  {
   "cell_type": "code",
   "execution_count": 117,
   "metadata": {},
   "outputs": [
    {
     "ename": "IndexError",
     "evalue": "list index out of range",
     "output_type": "error",
     "traceback": [
      "\u001b[1;31m---------------------------------------------------------------------------\u001b[0m",
      "\u001b[1;31mIndexError\u001b[0m                                Traceback (most recent call last)",
      "\u001b[1;32m<ipython-input-117-7e0636c972c6>\u001b[0m in \u001b[0;36m<module>\u001b[1;34m\u001b[0m\n\u001b[0;32m     18\u001b[0m \u001b[1;33m\u001b[0m\u001b[0m\n\u001b[0;32m     19\u001b[0m \u001b[1;33m\u001b[0m\u001b[0m\n\u001b[1;32m---> 20\u001b[1;33m \u001b[0mcount_step_n\u001b[0m\u001b[1;33m(\u001b[0m\u001b[1;36m5\u001b[0m\u001b[1;33m)\u001b[0m\u001b[1;33m\u001b[0m\u001b[1;33m\u001b[0m\u001b[0m\n\u001b[0m",
      "\u001b[1;32m<ipython-input-117-7e0636c972c6>\u001b[0m in \u001b[0;36mcount_step_n\u001b[1;34m(N)\u001b[0m\n\u001b[0;32m     12\u001b[0m                 \u001b[1;32melif\u001b[0m \u001b[0mn\u001b[0m \u001b[1;33m==\u001b[0m \u001b[0mN\u001b[0m\u001b[1;33m:\u001b[0m\u001b[1;33m\u001b[0m\u001b[1;33m\u001b[0m\u001b[0m\n\u001b[0;32m     13\u001b[0m                     \u001b[0mlst\u001b[0m\u001b[1;33m.\u001b[0m\u001b[0mappend\u001b[0m\u001b[1;33m(\u001b[0m\u001b[1;36m0\u001b[0m\u001b[1;33m)\u001b[0m\u001b[1;33m\u001b[0m\u001b[1;33m\u001b[0m\u001b[0m\n\u001b[1;32m---> 14\u001b[1;33m                     \u001b[0mlst\u001b[0m\u001b[1;33m[\u001b[0m\u001b[1;33m-\u001b[0m\u001b[1;36m1\u001b[0m\u001b[1;33m]\u001b[0m \u001b[1;33m+=\u001b[0m \u001b[0mlst\u001b[0m\u001b[1;33m[\u001b[0m\u001b[1;33m-\u001b[0m\u001b[0mn\u001b[0m \u001b[1;33m-\u001b[0m \u001b[1;36m1\u001b[0m\u001b[1;33m]\u001b[0m\u001b[1;33m\u001b[0m\u001b[1;33m\u001b[0m\u001b[0m\n\u001b[0m\u001b[0;32m     15\u001b[0m             \u001b[0mlst\u001b[0m\u001b[1;33m.\u001b[0m\u001b[0mappend\u001b[0m\u001b[1;33m(\u001b[0m\u001b[0mtotal\u001b[0m\u001b[1;33m)\u001b[0m\u001b[1;33m\u001b[0m\u001b[1;33m\u001b[0m\u001b[0m\n\u001b[0;32m     16\u001b[0m \u001b[1;31m#         print(lst)\u001b[0m\u001b[1;33m\u001b[0m\u001b[1;33m\u001b[0m\u001b[1;33m\u001b[0m\u001b[0m\n",
      "\u001b[1;31mIndexError\u001b[0m: list index out of range"
     ]
    }
   ],
   "source": [
    "def count_step_n(N):\n",
    "    lst = [0, 1, 2]\n",
    "    nums = [1, 3, 5]\n",
    "    if N < 3: return 1\n",
    "    else:\n",
    "        for x in range(3, N+1):\n",
    "            total = 0\n",
    "            for n in nums:\n",
    "                if n < N:\n",
    "                    total += lst[-n]\n",
    "#                     print(x, n, total)\n",
    "            lst.append(total)\n",
    "#         print(lst)\n",
    "    return lst[-1]\n",
    "\n",
    "\n",
    "count_step_n(5)"
   ]
  },
  {
   "cell_type": "code",
   "execution_count": 2,
   "metadata": {},
   "outputs": [
    {
     "data": {
      "text/plain": [
       "True"
      ]
     },
     "execution_count": 2,
     "metadata": {},
     "output_type": "execute_result"
    }
   ],
   "source": [
    "def is_comfortable(word):\n",
    "\n",
    "    unique = set(word)\n",
    "\n",
    "    left = 'trewqgfdsabvcxz'\n",
    "\n",
    "    right = 'yuiophjklnm'\n",
    "\n",
    "    return bool(unique.intersection(left) and unique.intersection(right))\n",
    "\n",
    "\n",
    "is_comfortable('testerl')"
   ]
  },
  {
   "cell_type": "code",
   "execution_count": 6,
   "metadata": {},
   "outputs": [
    {
     "data": {
      "text/plain": [
       "8"
      ]
     },
     "execution_count": 6,
     "metadata": {},
     "output_type": "execute_result"
    }
   ],
   "source": [
    "samanlik = ['yumurta', 'esarp', 'tezek', 'inek', 'igne', 'tavuk', 'su', 'tavuk', 'su']\n",
    "samanlik.index('su', samanlik.index('su') + 1)\n",
    "\n"
   ]
  },
  {
   "cell_type": "code",
   "execution_count": 8,
   "metadata": {},
   "outputs": [
    {
     "name": "stdout",
     "output_type": "stream",
     "text": [
      "1\n"
     ]
    }
   ],
   "source": [
    "(monday, tuesday, wednesday, thursday, friday, saturday, sunday) = range(1,8)\n",
    "print(monday)"
   ]
  },
  {
   "cell_type": "code",
   "execution_count": 1,
   "metadata": {},
   "outputs": [
    {
     "name": "stdout",
     "output_type": "stream",
     "text": [
      "1\n"
     ]
    }
   ],
   "source": [
    "[monday, tuesday, wednesday, thursday, friday, saturday, sunday] = range(1,8)\n",
    "print(monday)"
   ]
  },
  {
   "cell_type": "code",
   "execution_count": 20,
   "metadata": {},
   "outputs": [
    {
     "data": {
      "text/plain": [
       "'grfg'"
      ]
     },
     "execution_count": 20,
     "metadata": {},
     "output_type": "execute_result"
    }
   ],
   "source": [
    "order = \" ABCDEFGHIJKLMabcdefghijklmNOPQRSTUVWXYZnopqrstuvwxyz\"\n",
    "rot13 = \" NOPQRSTUVWXYZnopqrstuvwxyzABCDEFGHIJKLMabcdefghijklm\"\n",
    "string = 'Thank you for teaching me this'\n",
    "new = ''\n",
    "for char in string:\n",
    "    new += rot13[order.index(char)]\n",
    "    \n",
    "# print(new)\n",
    "\n",
    "def rot13(word):\n",
    "    order = \" ABCDEFGHIJKLMabcdefghijklmNOPQRSTUVWXYZnopqrstuvwxyz\"\n",
    "    rot13 = \" NOPQRSTUVWXYZnopqrstuvwxyzABCDEFGHIJKLMabcdefghijklm\"\n",
    "    new = ''\n",
    "    for char in word:\n",
    "        new += rot13[order.index(char)]\n",
    "    \n",
    "    return new\n",
    "\n",
    "rot13('test')"
   ]
  },
  {
   "cell_type": "code",
   "execution_count": 14,
   "metadata": {},
   "outputs": [
    {
     "name": "stdout",
     "output_type": "stream",
     "text": [
      " NOPQR\n"
     ]
    }
   ],
   "source": [
    "def rot13(word):\n",
    "    order = \" ABCDEFGHIJKLMabcdefghijklmNOPQRSTUVWXYZnopqrstuvwxyz\"\n",
    "    rot13 = \" NOPQRSTUVWXYZnopqrstuvwxyzABCDEFGHIJKLMabcdefghijklm\"\n",
    "    new = ''\n",
    "    for i, char in enumerate(word):\n",
    "        new += rot13[i]\n",
    "\n",
    "    print(new)\n",
    "\n",
    "rot13('deneme')"
   ]
  },
  {
   "cell_type": "code",
   "execution_count": 2,
   "metadata": {},
   "outputs": [
    {
     "name": "stdout",
     "output_type": "stream",
     "text": [
      "qrarzr\n"
     ]
    }
   ],
   "source": [
    "order = \" ABCDEFGHIJKLMabcdefghijklmNOPQRSTUVWXYZnopqrstuvwxyz\"\n",
    "rot13 = \" NOPQRSTUVWXYZnopqrstuvwxyzABCDEFGHIJKLMabcdefghijklm\"\n",
    "new = ''\n",
    "for char in 'deneme':\n",
    "    for i, ch in enumerate(order):\n",
    "        if char == ch:\n",
    "            new += rot13[i]\n",
    "print(new)\n",
    "            "
   ]
  },
  {
   "cell_type": "code",
   "execution_count": 88,
   "metadata": {},
   "outputs": [
    {
     "data": {
      "text/plain": [
       "False"
      ]
     },
     "execution_count": 88,
     "metadata": {},
     "output_type": "execute_result"
    }
   ],
   "source": [
    "def valid_name(text):\n",
    "    if text == text.title() and text[-1] != '.' and 0 < text.count(' ') < 3:\n",
    "        if text.count(' ') == 2 and len(text.split(' ')[0]) < len(text.split(' ')[1]):\n",
    "            return False\n",
    "        else:\n",
    "            for x in text.split():\n",
    "                if sum([1 if (len(x) > 2 and x[-1] == '.') or len(x) < 2 else 0]) > 0:\n",
    "                    return False\n",
    "                else:\n",
    "                    return True\n",
    "    return False\n",
    "\n",
    "valid_name('H Wells')\n",
    "                "
   ]
  },
  {
   "cell_type": "code",
   "execution_count": 105,
   "metadata": {},
   "outputs": [
    {
     "data": {
      "text/plain": [
       "3"
      ]
     },
     "execution_count": 105,
     "metadata": {},
     "output_type": "execute_result"
    }
   ],
   "source": [
    "\n",
    "def min_palindrome_steps(txt):\n",
    "    txt = txt[::-1]\n",
    "    all_samples = []\n",
    "    for i, char in enumerate(txt):\n",
    "        if txt[0] == txt[i]:\n",
    "            sample = txt[:i+1]\n",
    "            if sample == sample[::-1]:\n",
    "                all_samples.append(sample)\n",
    "    return len(txt) - len(sorted(all_samples, key=len)[-1])\n",
    "                \n",
    "min_palindrom_steps('teneke')"
   ]
  },
  {
   "cell_type": "code",
   "execution_count": 10,
   "metadata": {},
   "outputs": [
    {
     "data": {
      "text/plain": [
       "True"
      ]
     },
     "execution_count": 10,
     "metadata": {},
     "output_type": "execute_result"
    }
   ],
   "source": [
    "def is_anagram(txt1, txt2):\n",
    "    return sorted(txt1.lower()) == sorted(txt2.lower())\n",
    "\n",
    "is_anagram('anagram', 'Nagaram')"
   ]
  },
  {
   "cell_type": "code",
   "execution_count": 2,
   "metadata": {},
   "outputs": [
    {
     "name": "stdout",
     "output_type": "stream",
     "text": [
      "[['stte', 'test'], ['bat'], ['nat', 'tan'], ['ate', 'eat', 'tea']]\n"
     ]
    }
   ],
   "source": [
    "data = [\"eat\", \"tea\", \"tan\", \"ate\", \"nat\", \"bat\", 'test', 'stte']\n",
    "main, num = [], 0\n",
    "while data:\n",
    "    item = data.pop()\n",
    "    main.append([item])\n",
    "    for each in data.copy():\n",
    "        if sorted(item) == sorted(each):\n",
    "            data.remove(each)\n",
    "            main[num].append(each)\n",
    "    num += 1\n",
    "print(main)\n",
    "            "
   ]
  },
  {
   "cell_type": "code",
   "execution_count": 46,
   "metadata": {},
   "outputs": [
    {
     "data": {
      "text/plain": [
       "\"1 APPLE AND 5 CHERRY, 7 SANDWICHES, 2 TABLES, 9 INVITED GUYS ! THAT'S SO COOL...\""
      ]
     },
     "execution_count": 46,
     "metadata": {},
     "output_type": "execute_result"
    }
   ],
   "source": [
    "morse_to_dots = {\n",
    "    \"A\": \".-\", \"B\": \"-...\", \"C\": \"-.-.\", \"D\": \"-..\", \"E\": \".\", \"F\": \"..-.\",\n",
    "    \"G\": \"--.\", \"H\": \"....\", \"I\": \"..\", \"J\": \".---\", \"K\": \"-.-\", \"L\": \".-..\",\n",
    "    \"M\": \"--\", \"N\": \"-.\", \"O\": \"---\", \"P\": \".--.\", \"Q\": \"--.-\", \"R\": \".-.\",\n",
    "    \"S\": \"...\", \"T\": \"-\", \"U\": \"..-\", \"V\": \"...-\", \"W\": \".--\", \"X\": \"-..-\",\n",
    "    \"Y\": \"-.--\", \"Z\": \"--..\", \"0\": \"-----\",\n",
    "    \"1\": \".----\", \"2\": \"..---\", \"3\": \"...--\", \"4\": \"....-\", \"5\": \".....\",\n",
    "    \"6\": \"-....\", \"7\": \"--...\", \"8\": \"---..\", \"9\": \"----.\",\n",
    "    \"&\": \".-...\", \"'\": \".----.\", \"@\": \".--.-.\", \")\": \"-.--.-\", \"(\": \"-.--.\",\n",
    "    \":\": \"---...\", \",\": \"--..--\", \"=\": \"-...-\", \"!\": \"-.-.--\", \".\": \".-.-.-\",\n",
    "    \"-\": \"-....-\", \"+\": \".-.-.\", '\"': \".-..-.\", \"?\": \"..--..\", \"/\": \"-..-.\", '_' : '_'\n",
    "}\n",
    "\n",
    "dots_to_morse = {}\n",
    "for key, val in morse_to_dots.items():\n",
    "    dots_to_morse[val] = key\n",
    "dots_to_morse\n",
    "    \n",
    "def decode_morse(txt):\n",
    "    txt = list(txt)\n",
    "    for i, ch in enumerate(txt):\n",
    "        if ch == ' ' and txt[i - 1] == ' ':\n",
    "            txt[i] = ' _ '    \n",
    "    txt = ''.join(txt)\n",
    "    st = []\n",
    "    for dot in txt.split():\n",
    "        st.append(dots_to_morse[dot])\n",
    "\n",
    "    return ''.join(st).replace('_', ' ')\n",
    "    \n",
    "\n",
    "# decode_morse(\".... . .-.. .--.   -- .  -.-.--\")\n",
    "decode_morse(\".----   .- .--. .--. .-.. .   .- -. -..   .....   -.-. .... . .-. .-. -.-- --..--   --...   ... .- -. -.. .-- .. -.-. .... . ... --..--   ..---   - .- -... .-.. . ... --..--   ----.   .. -. ...- .. - . -..   --. ..- -.-- ...   -.-.--   - .... .- - .----. ...   ... ---   -.-. --- --- .-.. .-.-.- .-.-.- .-.-.-\")        "
   ]
  },
  {
   "cell_type": "code",
   "execution_count": 107,
   "metadata": {},
   "outputs": [
    {
     "data": {
      "text/plain": [
       "True"
      ]
     },
     "execution_count": 107,
     "metadata": {},
     "output_type": "execute_result"
    }
   ],
   "source": [
    "morse_to_dots = {\n",
    "    \"A\": \".-\", \"B\": \"-...\", \"C\": \"-.-.\", \"D\": \"-..\", \"E\": \".\", \"F\": \"..-.\",\n",
    "    \"G\": \"--.\", \"H\": \"....\", \"I\": \"..\", \"J\": \".---\", \"K\": \"-.-\", \"L\": \".-..\",\n",
    "    \"M\": \"--\", \"N\": \"-.\", \"O\": \"---\", \"P\": \".--.\", \"Q\": \"--.-\", \"R\": \".-.\",\n",
    "    \"S\": \"...\", \"T\": \"-\", \"U\": \"..-\", \"V\": \"...-\", \"W\": \".--\", \"X\": \"-..-\",\n",
    "    \"Y\": \"-.--\", \"Z\": \"--..\", \"0\": \"-----\",\n",
    "    \"1\": \".----\", \"2\": \"..---\", \"3\": \"...--\", \"4\": \"....-\", \"5\": \".....\",\n",
    "    \"6\": \"-....\", \"7\": \"--...\", \"8\": \"---..\", \"9\": \"----.\",\n",
    "    \"&\": \".-...\", \"'\": \".----.\", \"@\": \".--.-.\", \")\": \"-.--.-\", \"(\": \"-.--.\",\n",
    "    \":\": \"---...\", \",\": \"--..--\", \"=\": \"-...-\", \"!\": \"-.-.--\", \".\": \".-.-.-\",\n",
    "    \"-\": \"-....-\", \"+\": \".-.-.\", '\"': \".-..-.\", \"?\": \"..--..\", \"/\": \"-..-.\", '_': '_'\n",
    "}\n",
    "\n",
    "dots_to_morse = {}\n",
    "for key, val in morse_to_dots.items():\n",
    "    dots_to_morse[val] = key\n",
    "dots_to_morse\n",
    "    \n",
    "def decode_morse(txt):\n",
    "    txt = list(txt)\n",
    "    for i, ch in enumerate(txt):\n",
    "        if ch == ' ' == txt[i - 1] == ' ': txt[i] = ' _ '    \n",
    "    txt, txt_1 = [], ''.join(txt)\n",
    "    for dot in txt_1.split():\n",
    "        txt.append(dots_to_morse[dot])\n",
    "    return ''.join(txt).replace('_', ' ')\n",
    "result = []\n",
    "def decode_morse1(txt):\n",
    "    for word in txt.split('  '):\n",
    "        for letter in word.split():\n",
    "            result.append(dots_to_morse[letter])\n",
    "        result.append(' ')\n",
    "    return ''.join(result[:-1])    \n",
    "\n",
    "decode_morse1(\".... . .-.. .--.   -- .  -.-.--\") == decode_morse(\".... . .-.. .--.   -- .  -.-.--\")\n",
    "# decode_morse(\".----   .- .--. .--. .-.. .   .- -. -..   .....   -.-. .... . .-. .-. -.-- --..--   --...   ... .- -. -.. .-- .. -.-. .... . ... --..--   ..---   - .- -... .-.. . ... --..--   ----.   .. -. ...- .. - . -..   --. ..- -.-- ...   -.-.--   - .... .- - .----. ...   ... ---   -.-. --- --- .-.. .-.-.- .-.-.- .-.-.-\")        "
   ]
  },
  {
   "cell_type": "code",
   "execution_count": 65,
   "metadata": {},
   "outputs": [
    {
     "data": {
      "text/plain": [
       "'HELP ME !'"
      ]
     },
     "execution_count": 65,
     "metadata": {},
     "output_type": "execute_result"
    }
   ],
   "source": [
    "morse_to_dots = {\n",
    "    \"A\": \".-\", \"B\": \"-...\", \"C\": \"-.-.\", \"D\": \"-..\", \"E\": \".\", \"F\": \"..-.\",\n",
    "    \"G\": \"--.\", \"H\": \"....\", \"I\": \"..\", \"J\": \".---\", \"K\": \"-.-\", \"L\": \".-..\",\n",
    "    \"M\": \"--\", \"N\": \"-.\", \"O\": \"---\", \"P\": \".--.\", \"Q\": \"--.-\", \"R\": \".-.\",\n",
    "    \"S\": \"...\", \"T\": \"-\", \"U\": \"..-\", \"V\": \"...-\", \"W\": \".--\", \"X\": \"-..-\",\n",
    "    \"Y\": \"-.--\", \"Z\": \"--..\", \"0\": \"-----\",\n",
    "    \"1\": \".----\", \"2\": \"..---\", \"3\": \"...--\", \"4\": \"....-\", \"5\": \".....\",\n",
    "    \"6\": \"-....\", \"7\": \"--...\", \"8\": \"---..\", \"9\": \"----.\",\n",
    "    \"&\": \".-...\", \"'\": \".----.\", \"@\": \".--.-.\", \")\": \"-.--.-\", \"(\": \"-.--.\",\n",
    "    \":\": \"---...\", \",\": \"--..--\", \"=\": \"-...-\", \"!\": \"-.-.--\", \".\": \".-.-.-\",\n",
    "    \"-\": \"-....-\", \"+\": \".-.-.\", '\"': \".-..-.\", \"?\": \"..--..\", \"/\": \"-..-.\", '_': '_'\n",
    "}\n",
    "\n",
    "dots_to_morse = {}\n",
    "for key, val in morse_to_dots.items():\n",
    "    dots_to_morse[val] = key\n",
    "dots_to_morse\n",
    "\n",
    "def decode_morse1(txt):\n",
    "    result = []\n",
    "    for word in txt.split('  '):\n",
    "        for letter in word.split():\n",
    "            result.append(dots_to_morse[letter])\n",
    "        result.append(' ')\n",
    "    return ''.join(result[:-1])\n",
    "\n",
    "# decode_morse(\". -.. .- -... -... .. -   -.-. .... .- .-.. .-.. . -. --. .\")        \n",
    "# decode_morse(\"- .-- ---   - .... .. -. --. ...   - ---   -.- -. --- .--   ---...   ..   ..-. --- .-. --. . -   - .... . --   ---... -.-.\")\n",
    "decode_morse(\".... . .-.. .--.   -- .   -.-.--\")"
   ]
  }
 ],
 "metadata": {
  "kernelspec": {
   "display_name": "Python 3",
   "language": "python",
   "name": "python3"
  },
  "language_info": {
   "codemirror_mode": {
    "name": "ipython",
    "version": 3
   },
   "file_extension": ".py",
   "mimetype": "text/x-python",
   "name": "python",
   "nbconvert_exporter": "python",
   "pygments_lexer": "ipython3",
   "version": "3.7.6"
  }
 },
 "nbformat": 4,
 "nbformat_minor": 4
}
